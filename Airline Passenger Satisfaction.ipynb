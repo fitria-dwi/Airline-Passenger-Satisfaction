{
 "cells": [
  {
   "cell_type": "markdown",
   "metadata": {},
   "source": [
    "**Author: Fitria Dwi Wulandari (fitria.dwi71@ui.ac.id) - January 7, 2020**\n",
    "\n",
    "**Disclaimer.**\n",
    "<br> This notebook was made as a final exam report for a data mining class that I worked on with Allissa and Nurlia."
   ]
  },
  {
   "cell_type": "markdown",
   "metadata": {},
   "source": [
    "# AIRLINE PASSENGER SATISFACTION"
   ]
  },
  {
   "cell_type": "markdown",
   "metadata": {
    "id": "nt1IL17oZ19o"
   },
   "source": [
    "Data yang digunakan merupakan data survei kepuasan penumpang dari salah satu maskapai penerbangan di U.S.\n",
    "<br> Sumber data : [https://www.kaggle.com/teejmahal20/airline-passenger-satisfaction](https://www.kaggle.com/teejmahal20/airline-passenger-satisfaction)"
   ]
  },
  {
   "cell_type": "markdown",
   "metadata": {
    "id": "Lkx1N5akZuAX"
   },
   "source": [
    "### **File Loading**"
   ]
  },
  {
   "cell_type": "code",
   "execution_count": 1,
   "metadata": {
    "id": "rafErhFcU_LH"
   },
   "outputs": [],
   "source": [
    "# Import Libraries\n",
    "import pandas as pd\n",
    "import numpy as np\n",
    "import seaborn as sns"
   ]
  },
  {
   "cell_type": "code",
   "execution_count": 2,
   "metadata": {
    "id": "_PtX6ganbvSc"
   },
   "outputs": [],
   "source": [
    "# Import Dataset\n",
    "airline = pd.read_csv('train.csv')"
   ]
  },
  {
   "cell_type": "code",
   "execution_count": 3,
   "metadata": {
    "colab": {
     "base_uri": "https://localhost:8080/",
     "height": 368
    },
    "id": "6qAbeiNiV0-N",
    "outputId": "a28ea9bb-0343-47d0-cf37-fa7bd9d467be"
   },
   "outputs": [
    {
     "name": "stdout",
     "output_type": "stream",
     "text": [
      "Ukuran Data (103904, 25)\n"
     ]
    },
    {
     "data": {
      "text/html": [
       "<div>\n",
       "<style scoped>\n",
       "    .dataframe tbody tr th:only-of-type {\n",
       "        vertical-align: middle;\n",
       "    }\n",
       "\n",
       "    .dataframe tbody tr th {\n",
       "        vertical-align: top;\n",
       "    }\n",
       "\n",
       "    .dataframe thead th {\n",
       "        text-align: right;\n",
       "    }\n",
       "</style>\n",
       "<table border=\"1\" class=\"dataframe\">\n",
       "  <thead>\n",
       "    <tr style=\"text-align: right;\">\n",
       "      <th></th>\n",
       "      <th>Unnamed: 0</th>\n",
       "      <th>id</th>\n",
       "      <th>Gender</th>\n",
       "      <th>Customer Type</th>\n",
       "      <th>Age</th>\n",
       "      <th>Type of Travel</th>\n",
       "      <th>Class</th>\n",
       "      <th>Flight Distance</th>\n",
       "      <th>Inflight wifi service</th>\n",
       "      <th>Departure/Arrival time convenient</th>\n",
       "      <th>...</th>\n",
       "      <th>Inflight entertainment</th>\n",
       "      <th>On-board service</th>\n",
       "      <th>Leg room service</th>\n",
       "      <th>Baggage handling</th>\n",
       "      <th>Checkin service</th>\n",
       "      <th>Inflight service</th>\n",
       "      <th>Cleanliness</th>\n",
       "      <th>Departure Delay in Minutes</th>\n",
       "      <th>Arrival Delay in Minutes</th>\n",
       "      <th>satisfaction</th>\n",
       "    </tr>\n",
       "  </thead>\n",
       "  <tbody>\n",
       "    <tr>\n",
       "      <th>0</th>\n",
       "      <td>0</td>\n",
       "      <td>70172</td>\n",
       "      <td>Male</td>\n",
       "      <td>Loyal Customer</td>\n",
       "      <td>13</td>\n",
       "      <td>Personal Travel</td>\n",
       "      <td>Eco Plus</td>\n",
       "      <td>460</td>\n",
       "      <td>3</td>\n",
       "      <td>4</td>\n",
       "      <td>...</td>\n",
       "      <td>5</td>\n",
       "      <td>4</td>\n",
       "      <td>3</td>\n",
       "      <td>4</td>\n",
       "      <td>4</td>\n",
       "      <td>5</td>\n",
       "      <td>5</td>\n",
       "      <td>25</td>\n",
       "      <td>18.0</td>\n",
       "      <td>neutral or dissatisfied</td>\n",
       "    </tr>\n",
       "    <tr>\n",
       "      <th>1</th>\n",
       "      <td>1</td>\n",
       "      <td>5047</td>\n",
       "      <td>Male</td>\n",
       "      <td>disloyal Customer</td>\n",
       "      <td>25</td>\n",
       "      <td>Business travel</td>\n",
       "      <td>Business</td>\n",
       "      <td>235</td>\n",
       "      <td>3</td>\n",
       "      <td>2</td>\n",
       "      <td>...</td>\n",
       "      <td>1</td>\n",
       "      <td>1</td>\n",
       "      <td>5</td>\n",
       "      <td>3</td>\n",
       "      <td>1</td>\n",
       "      <td>4</td>\n",
       "      <td>1</td>\n",
       "      <td>1</td>\n",
       "      <td>6.0</td>\n",
       "      <td>neutral or dissatisfied</td>\n",
       "    </tr>\n",
       "    <tr>\n",
       "      <th>2</th>\n",
       "      <td>2</td>\n",
       "      <td>110028</td>\n",
       "      <td>Female</td>\n",
       "      <td>Loyal Customer</td>\n",
       "      <td>26</td>\n",
       "      <td>Business travel</td>\n",
       "      <td>Business</td>\n",
       "      <td>1142</td>\n",
       "      <td>2</td>\n",
       "      <td>2</td>\n",
       "      <td>...</td>\n",
       "      <td>5</td>\n",
       "      <td>4</td>\n",
       "      <td>3</td>\n",
       "      <td>4</td>\n",
       "      <td>4</td>\n",
       "      <td>4</td>\n",
       "      <td>5</td>\n",
       "      <td>0</td>\n",
       "      <td>0.0</td>\n",
       "      <td>satisfied</td>\n",
       "    </tr>\n",
       "    <tr>\n",
       "      <th>3</th>\n",
       "      <td>3</td>\n",
       "      <td>24026</td>\n",
       "      <td>Female</td>\n",
       "      <td>Loyal Customer</td>\n",
       "      <td>25</td>\n",
       "      <td>Business travel</td>\n",
       "      <td>Business</td>\n",
       "      <td>562</td>\n",
       "      <td>2</td>\n",
       "      <td>5</td>\n",
       "      <td>...</td>\n",
       "      <td>2</td>\n",
       "      <td>2</td>\n",
       "      <td>5</td>\n",
       "      <td>3</td>\n",
       "      <td>1</td>\n",
       "      <td>4</td>\n",
       "      <td>2</td>\n",
       "      <td>11</td>\n",
       "      <td>9.0</td>\n",
       "      <td>neutral or dissatisfied</td>\n",
       "    </tr>\n",
       "    <tr>\n",
       "      <th>4</th>\n",
       "      <td>4</td>\n",
       "      <td>119299</td>\n",
       "      <td>Male</td>\n",
       "      <td>Loyal Customer</td>\n",
       "      <td>61</td>\n",
       "      <td>Business travel</td>\n",
       "      <td>Business</td>\n",
       "      <td>214</td>\n",
       "      <td>3</td>\n",
       "      <td>3</td>\n",
       "      <td>...</td>\n",
       "      <td>3</td>\n",
       "      <td>3</td>\n",
       "      <td>4</td>\n",
       "      <td>4</td>\n",
       "      <td>3</td>\n",
       "      <td>3</td>\n",
       "      <td>3</td>\n",
       "      <td>0</td>\n",
       "      <td>0.0</td>\n",
       "      <td>satisfied</td>\n",
       "    </tr>\n",
       "  </tbody>\n",
       "</table>\n",
       "<p>5 rows × 25 columns</p>\n",
       "</div>"
      ],
      "text/plain": [
       "   Unnamed: 0      id  Gender      Customer Type  Age   Type of Travel  \\\n",
       "0           0   70172    Male     Loyal Customer   13  Personal Travel   \n",
       "1           1    5047    Male  disloyal Customer   25  Business travel   \n",
       "2           2  110028  Female     Loyal Customer   26  Business travel   \n",
       "3           3   24026  Female     Loyal Customer   25  Business travel   \n",
       "4           4  119299    Male     Loyal Customer   61  Business travel   \n",
       "\n",
       "      Class  Flight Distance  Inflight wifi service  \\\n",
       "0  Eco Plus              460                      3   \n",
       "1  Business              235                      3   \n",
       "2  Business             1142                      2   \n",
       "3  Business              562                      2   \n",
       "4  Business              214                      3   \n",
       "\n",
       "   Departure/Arrival time convenient  ...  Inflight entertainment  \\\n",
       "0                                  4  ...                       5   \n",
       "1                                  2  ...                       1   \n",
       "2                                  2  ...                       5   \n",
       "3                                  5  ...                       2   \n",
       "4                                  3  ...                       3   \n",
       "\n",
       "   On-board service  Leg room service  Baggage handling  Checkin service  \\\n",
       "0                 4                 3                 4                4   \n",
       "1                 1                 5                 3                1   \n",
       "2                 4                 3                 4                4   \n",
       "3                 2                 5                 3                1   \n",
       "4                 3                 4                 4                3   \n",
       "\n",
       "   Inflight service  Cleanliness  Departure Delay in Minutes  \\\n",
       "0                 5            5                          25   \n",
       "1                 4            1                           1   \n",
       "2                 4            5                           0   \n",
       "3                 4            2                          11   \n",
       "4                 3            3                           0   \n",
       "\n",
       "   Arrival Delay in Minutes             satisfaction  \n",
       "0                      18.0  neutral or dissatisfied  \n",
       "1                       6.0  neutral or dissatisfied  \n",
       "2                       0.0                satisfied  \n",
       "3                       9.0  neutral or dissatisfied  \n",
       "4                       0.0                satisfied  \n",
       "\n",
       "[5 rows x 25 columns]"
      ]
     },
     "execution_count": 3,
     "metadata": {},
     "output_type": "execute_result"
    }
   ],
   "source": [
    "# Melihat Bentuk Data\n",
    "print('Ukuran Data', airline.shape)\n",
    "airline.head()"
   ]
  },
  {
   "cell_type": "markdown",
   "metadata": {
    "id": "nYp52SEEubxs"
   },
   "source": [
    "**Keterangan:**\n",
    "\n",
    "* `id` : Unique id number to each passenger\n",
    "\n",
    "* `Gender` : Gender of the passengers\n",
    "\n",
    "* `Customer Type` : The customer type\n",
    "\n",
    "* `Age` : The actual age of the passengers\n",
    "\n",
    "* `Type of Travel` : Purpose of the flight of the passengers\n",
    "\n",
    "* `Class` : Travel class in the plane of the passengers\n",
    "\n",
    "* `Flight distance` : The flight distance of this journey\n",
    "\n",
    "* `Inflight wifi service` : Satisfaction level of the inflight wifi service (0:Not Applicable;1-5)\n",
    "\n",
    "* `Departure/Arrival time convenient` : Satisfaction level of Departure/Arrival time convenient\n",
    "\n",
    "* `Ease of Online booking` : Satisfaction level of online booking\n",
    "\n",
    "* `Gate location` : Satisfaction level of gate location\n",
    "\n",
    "* `Food and drink` : Satisfaction level of food and drink\n",
    "\n",
    "* `Online boarding` : Satisfaction level of online boarding\n",
    "\n",
    "* `Seat comfort` : Satisfaction level of seat comfort\n",
    "\n",
    "* `Inflight entertainment` : Satisfaction level of inflight entertainment\n",
    "\n",
    "* `On-board service` : Satisfaction level of on-board service\n",
    "\n",
    "* `Leg room service` : Satisfaction level of leg room service\n",
    "\n",
    "* `Baggage handling` : Satisfaction level of baggage handling\n",
    "\n",
    "* `Check-in service` : Satisfaction level of check-in service\n",
    "\n",
    "* `Inflight service` : Satisfaction level of inflight service\n",
    "\n",
    "* `Cleanliness` : Satisfaction level of cleanliness\n",
    "\n",
    "* `Departure Delay in Minutes` : Minutes delayed when departure\n",
    "\n",
    "* `Arrival Delay in Minutes` : Minutes delayed when Arrival\n",
    "\n",
    "* `Satisfaction` : Airline satisfaction level (Neutral/Dissatisfaction, Satisfaction)"
   ]
  },
  {
   "cell_type": "markdown",
   "metadata": {},
   "source": [
    "### Exploratory Data Analysis (EDA)"
   ]
  },
  {
   "cell_type": "markdown",
   "metadata": {
    "id": "zM7bUYJpbVQ0"
   },
   "source": [
    "#### ***Data Preprocessing***"
   ]
  },
  {
   "cell_type": "markdown",
   "metadata": {
    "id": "xfP6Kww2gVyN"
   },
   "source": [
    "##### - **Menghapus Kolom yang Tidak Diperlukan**"
   ]
  },
  {
   "cell_type": "code",
   "execution_count": 4,
   "metadata": {
    "colab": {
     "base_uri": "https://localhost:8080/",
     "height": 351
    },
    "id": "ALUaEBMUWMXh",
    "outputId": "8a3b3e46-fe63-4345-c755-76ae3d383c9d"
   },
   "outputs": [
    {
     "data": {
      "text/html": [
       "<div>\n",
       "<style scoped>\n",
       "    .dataframe tbody tr th:only-of-type {\n",
       "        vertical-align: middle;\n",
       "    }\n",
       "\n",
       "    .dataframe tbody tr th {\n",
       "        vertical-align: top;\n",
       "    }\n",
       "\n",
       "    .dataframe thead th {\n",
       "        text-align: right;\n",
       "    }\n",
       "</style>\n",
       "<table border=\"1\" class=\"dataframe\">\n",
       "  <thead>\n",
       "    <tr style=\"text-align: right;\">\n",
       "      <th></th>\n",
       "      <th>Gender</th>\n",
       "      <th>Customer Type</th>\n",
       "      <th>Age</th>\n",
       "      <th>Type of Travel</th>\n",
       "      <th>Class</th>\n",
       "      <th>Flight Distance</th>\n",
       "      <th>Inflight wifi service</th>\n",
       "      <th>Departure/Arrival time convenient</th>\n",
       "      <th>Ease of Online booking</th>\n",
       "      <th>Gate location</th>\n",
       "      <th>...</th>\n",
       "      <th>Inflight entertainment</th>\n",
       "      <th>On-board service</th>\n",
       "      <th>Leg room service</th>\n",
       "      <th>Baggage handling</th>\n",
       "      <th>Checkin service</th>\n",
       "      <th>Inflight service</th>\n",
       "      <th>Cleanliness</th>\n",
       "      <th>Departure Delay in Minutes</th>\n",
       "      <th>Arrival Delay in Minutes</th>\n",
       "      <th>satisfaction</th>\n",
       "    </tr>\n",
       "  </thead>\n",
       "  <tbody>\n",
       "    <tr>\n",
       "      <th>0</th>\n",
       "      <td>Male</td>\n",
       "      <td>Loyal Customer</td>\n",
       "      <td>13</td>\n",
       "      <td>Personal Travel</td>\n",
       "      <td>Eco Plus</td>\n",
       "      <td>460</td>\n",
       "      <td>3</td>\n",
       "      <td>4</td>\n",
       "      <td>3</td>\n",
       "      <td>1</td>\n",
       "      <td>...</td>\n",
       "      <td>5</td>\n",
       "      <td>4</td>\n",
       "      <td>3</td>\n",
       "      <td>4</td>\n",
       "      <td>4</td>\n",
       "      <td>5</td>\n",
       "      <td>5</td>\n",
       "      <td>25</td>\n",
       "      <td>18.0</td>\n",
       "      <td>neutral or dissatisfied</td>\n",
       "    </tr>\n",
       "    <tr>\n",
       "      <th>1</th>\n",
       "      <td>Male</td>\n",
       "      <td>disloyal Customer</td>\n",
       "      <td>25</td>\n",
       "      <td>Business travel</td>\n",
       "      <td>Business</td>\n",
       "      <td>235</td>\n",
       "      <td>3</td>\n",
       "      <td>2</td>\n",
       "      <td>3</td>\n",
       "      <td>3</td>\n",
       "      <td>...</td>\n",
       "      <td>1</td>\n",
       "      <td>1</td>\n",
       "      <td>5</td>\n",
       "      <td>3</td>\n",
       "      <td>1</td>\n",
       "      <td>4</td>\n",
       "      <td>1</td>\n",
       "      <td>1</td>\n",
       "      <td>6.0</td>\n",
       "      <td>neutral or dissatisfied</td>\n",
       "    </tr>\n",
       "    <tr>\n",
       "      <th>2</th>\n",
       "      <td>Female</td>\n",
       "      <td>Loyal Customer</td>\n",
       "      <td>26</td>\n",
       "      <td>Business travel</td>\n",
       "      <td>Business</td>\n",
       "      <td>1142</td>\n",
       "      <td>2</td>\n",
       "      <td>2</td>\n",
       "      <td>2</td>\n",
       "      <td>2</td>\n",
       "      <td>...</td>\n",
       "      <td>5</td>\n",
       "      <td>4</td>\n",
       "      <td>3</td>\n",
       "      <td>4</td>\n",
       "      <td>4</td>\n",
       "      <td>4</td>\n",
       "      <td>5</td>\n",
       "      <td>0</td>\n",
       "      <td>0.0</td>\n",
       "      <td>satisfied</td>\n",
       "    </tr>\n",
       "    <tr>\n",
       "      <th>3</th>\n",
       "      <td>Female</td>\n",
       "      <td>Loyal Customer</td>\n",
       "      <td>25</td>\n",
       "      <td>Business travel</td>\n",
       "      <td>Business</td>\n",
       "      <td>562</td>\n",
       "      <td>2</td>\n",
       "      <td>5</td>\n",
       "      <td>5</td>\n",
       "      <td>5</td>\n",
       "      <td>...</td>\n",
       "      <td>2</td>\n",
       "      <td>2</td>\n",
       "      <td>5</td>\n",
       "      <td>3</td>\n",
       "      <td>1</td>\n",
       "      <td>4</td>\n",
       "      <td>2</td>\n",
       "      <td>11</td>\n",
       "      <td>9.0</td>\n",
       "      <td>neutral or dissatisfied</td>\n",
       "    </tr>\n",
       "    <tr>\n",
       "      <th>4</th>\n",
       "      <td>Male</td>\n",
       "      <td>Loyal Customer</td>\n",
       "      <td>61</td>\n",
       "      <td>Business travel</td>\n",
       "      <td>Business</td>\n",
       "      <td>214</td>\n",
       "      <td>3</td>\n",
       "      <td>3</td>\n",
       "      <td>3</td>\n",
       "      <td>3</td>\n",
       "      <td>...</td>\n",
       "      <td>3</td>\n",
       "      <td>3</td>\n",
       "      <td>4</td>\n",
       "      <td>4</td>\n",
       "      <td>3</td>\n",
       "      <td>3</td>\n",
       "      <td>3</td>\n",
       "      <td>0</td>\n",
       "      <td>0.0</td>\n",
       "      <td>satisfied</td>\n",
       "    </tr>\n",
       "  </tbody>\n",
       "</table>\n",
       "<p>5 rows × 23 columns</p>\n",
       "</div>"
      ],
      "text/plain": [
       "   Gender      Customer Type  Age   Type of Travel     Class  Flight Distance  \\\n",
       "0    Male     Loyal Customer   13  Personal Travel  Eco Plus              460   \n",
       "1    Male  disloyal Customer   25  Business travel  Business              235   \n",
       "2  Female     Loyal Customer   26  Business travel  Business             1142   \n",
       "3  Female     Loyal Customer   25  Business travel  Business              562   \n",
       "4    Male     Loyal Customer   61  Business travel  Business              214   \n",
       "\n",
       "   Inflight wifi service  Departure/Arrival time convenient  \\\n",
       "0                      3                                  4   \n",
       "1                      3                                  2   \n",
       "2                      2                                  2   \n",
       "3                      2                                  5   \n",
       "4                      3                                  3   \n",
       "\n",
       "   Ease of Online booking  Gate location  ...  Inflight entertainment  \\\n",
       "0                       3              1  ...                       5   \n",
       "1                       3              3  ...                       1   \n",
       "2                       2              2  ...                       5   \n",
       "3                       5              5  ...                       2   \n",
       "4                       3              3  ...                       3   \n",
       "\n",
       "   On-board service  Leg room service  Baggage handling  Checkin service  \\\n",
       "0                 4                 3                 4                4   \n",
       "1                 1                 5                 3                1   \n",
       "2                 4                 3                 4                4   \n",
       "3                 2                 5                 3                1   \n",
       "4                 3                 4                 4                3   \n",
       "\n",
       "   Inflight service  Cleanliness  Departure Delay in Minutes  \\\n",
       "0                 5            5                          25   \n",
       "1                 4            1                           1   \n",
       "2                 4            5                           0   \n",
       "3                 4            2                          11   \n",
       "4                 3            3                           0   \n",
       "\n",
       "   Arrival Delay in Minutes             satisfaction  \n",
       "0                      18.0  neutral or dissatisfied  \n",
       "1                       6.0  neutral or dissatisfied  \n",
       "2                       0.0                satisfied  \n",
       "3                       9.0  neutral or dissatisfied  \n",
       "4                       0.0                satisfied  \n",
       "\n",
       "[5 rows x 23 columns]"
      ]
     },
     "execution_count": 4,
     "metadata": {},
     "output_type": "execute_result"
    }
   ],
   "source": [
    "# Menghapus Kolom 'Unnamed: 0' dan 'id'\n",
    "airline = airline.drop(['Unnamed: 0', 'id'], axis = 1)\n",
    "airline.head()"
   ]
  },
  {
   "cell_type": "markdown",
   "metadata": {
    "id": "PGZIP4mtgcrK"
   },
   "source": [
    "##### - **Mengoreksi Tipe Variabel**"
   ]
  },
  {
   "cell_type": "code",
   "execution_count": 5,
   "metadata": {
    "colab": {
     "base_uri": "https://localhost:8080/"
    },
    "id": "QZyF1AHRV6Tq",
    "outputId": "585f5168-c319-468e-fb15-7f9a41f30828"
   },
   "outputs": [
    {
     "name": "stdout",
     "output_type": "stream",
     "text": [
      "Tipe Variabel Sebelum Dikoreksi, adalah:\n",
      "<class 'pandas.core.frame.DataFrame'>\n",
      "RangeIndex: 103904 entries, 0 to 103903\n",
      "Data columns (total 23 columns):\n",
      " #   Column                             Non-Null Count   Dtype  \n",
      "---  ------                             --------------   -----  \n",
      " 0   Gender                             103904 non-null  object \n",
      " 1   Customer Type                      103904 non-null  object \n",
      " 2   Age                                103904 non-null  int64  \n",
      " 3   Type of Travel                     103904 non-null  object \n",
      " 4   Class                              103904 non-null  object \n",
      " 5   Flight Distance                    103904 non-null  int64  \n",
      " 6   Inflight wifi service              103904 non-null  int64  \n",
      " 7   Departure/Arrival time convenient  103904 non-null  int64  \n",
      " 8   Ease of Online booking             103904 non-null  int64  \n",
      " 9   Gate location                      103904 non-null  int64  \n",
      " 10  Food and drink                     103904 non-null  int64  \n",
      " 11  Online boarding                    103904 non-null  int64  \n",
      " 12  Seat comfort                       103904 non-null  int64  \n",
      " 13  Inflight entertainment             103904 non-null  int64  \n",
      " 14  On-board service                   103904 non-null  int64  \n",
      " 15  Leg room service                   103904 non-null  int64  \n",
      " 16  Baggage handling                   103904 non-null  int64  \n",
      " 17  Checkin service                    103904 non-null  int64  \n",
      " 18  Inflight service                   103904 non-null  int64  \n",
      " 19  Cleanliness                        103904 non-null  int64  \n",
      " 20  Departure Delay in Minutes         103904 non-null  int64  \n",
      " 21  Arrival Delay in Minutes           103594 non-null  float64\n",
      " 22  satisfaction                       103904 non-null  object \n",
      "dtypes: float64(1), int64(17), object(5)\n",
      "memory usage: 18.2+ MB\n"
     ]
    }
   ],
   "source": [
    "print('Tipe Variabel Sebelum Dikoreksi, adalah:')\n",
    "airline.info()"
   ]
  },
  {
   "cell_type": "code",
   "execution_count": 6,
   "metadata": {
    "id": "zFYNzH5RiavD"
   },
   "outputs": [],
   "source": [
    "# Mengoreksi Tipe Variabel\n",
    "airline[[\"Gender\",\"Customer Type\",\"Type of Travel\",\"Class\",\"satisfaction\"]] = airline[[\"Gender\",\"Customer Type\",\"Type of Travel\",\"Class\",\"satisfaction\"]].apply(lambda x: x.astype('category'))"
   ]
  },
  {
   "cell_type": "code",
   "execution_count": 7,
   "metadata": {
    "colab": {
     "base_uri": "https://localhost:8080/"
    },
    "id": "cr3uz4_cj7sD",
    "outputId": "68394e3f-7702-4ef1-d654-e47a14208081"
   },
   "outputs": [
    {
     "name": "stdout",
     "output_type": "stream",
     "text": [
      "Tipe Variabel Setelah Dikoreksi, adalah:\n",
      "<class 'pandas.core.frame.DataFrame'>\n",
      "RangeIndex: 103904 entries, 0 to 103903\n",
      "Data columns (total 23 columns):\n",
      " #   Column                             Non-Null Count   Dtype   \n",
      "---  ------                             --------------   -----   \n",
      " 0   Gender                             103904 non-null  category\n",
      " 1   Customer Type                      103904 non-null  category\n",
      " 2   Age                                103904 non-null  int64   \n",
      " 3   Type of Travel                     103904 non-null  category\n",
      " 4   Class                              103904 non-null  category\n",
      " 5   Flight Distance                    103904 non-null  int64   \n",
      " 6   Inflight wifi service              103904 non-null  int64   \n",
      " 7   Departure/Arrival time convenient  103904 non-null  int64   \n",
      " 8   Ease of Online booking             103904 non-null  int64   \n",
      " 9   Gate location                      103904 non-null  int64   \n",
      " 10  Food and drink                     103904 non-null  int64   \n",
      " 11  Online boarding                    103904 non-null  int64   \n",
      " 12  Seat comfort                       103904 non-null  int64   \n",
      " 13  Inflight entertainment             103904 non-null  int64   \n",
      " 14  On-board service                   103904 non-null  int64   \n",
      " 15  Leg room service                   103904 non-null  int64   \n",
      " 16  Baggage handling                   103904 non-null  int64   \n",
      " 17  Checkin service                    103904 non-null  int64   \n",
      " 18  Inflight service                   103904 non-null  int64   \n",
      " 19  Cleanliness                        103904 non-null  int64   \n",
      " 20  Departure Delay in Minutes         103904 non-null  int64   \n",
      " 21  Arrival Delay in Minutes           103594 non-null  float64 \n",
      " 22  satisfaction                       103904 non-null  category\n",
      "dtypes: category(5), float64(1), int64(17)\n",
      "memory usage: 14.8 MB\n"
     ]
    }
   ],
   "source": [
    "print('Tipe Variabel Setelah Dikoreksi, adalah:')\n",
    "airline.info()"
   ]
  },
  {
   "cell_type": "markdown",
   "metadata": {
    "id": "pv-GcjTubogI"
   },
   "source": [
    "##### - **Mengecek Duplikasi Data**"
   ]
  },
  {
   "cell_type": "code",
   "execution_count": 8,
   "metadata": {
    "colab": {
     "base_uri": "https://localhost:8080/"
    },
    "id": "UOZit6FKksMQ",
    "outputId": "a3ba9d55-8f4e-4337-9fcf-8a166599c116"
   },
   "outputs": [
    {
     "name": "stdout",
     "output_type": "stream",
     "text": [
      "Total Duplikasi pada Data: 0\n"
     ]
    }
   ],
   "source": [
    "print('Total Duplikasi pada Data:', airline.duplicated().sum())"
   ]
  },
  {
   "cell_type": "markdown",
   "metadata": {
    "id": "9OQA6vqVbafh"
   },
   "source": [
    "##### - **Memeriksa *Missing Value***"
   ]
  },
  {
   "cell_type": "code",
   "execution_count": 9,
   "metadata": {
    "colab": {
     "base_uri": "https://localhost:8080/"
    },
    "id": "CKnLYJWjdJar",
    "outputId": "0076b65d-5abf-4eae-8a7c-dcaa2afcfe99"
   },
   "outputs": [
    {
     "name": "stdout",
     "output_type": "stream",
     "text": [
      "\n",
      "Jumlah Missing Values pada masing-masing Kolom, adalah:\n"
     ]
    },
    {
     "data": {
      "text/plain": [
       "Arrival Delay in Minutes             310\n",
       "satisfaction                           0\n",
       "Food and drink                         0\n",
       "Customer Type                          0\n",
       "Age                                    0\n",
       "Type of Travel                         0\n",
       "Class                                  0\n",
       "Flight Distance                        0\n",
       "Inflight wifi service                  0\n",
       "Departure/Arrival time convenient      0\n",
       "Ease of Online booking                 0\n",
       "Gate location                          0\n",
       "Online boarding                        0\n",
       "Seat comfort                           0\n",
       "Inflight entertainment                 0\n",
       "On-board service                       0\n",
       "Leg room service                       0\n",
       "Baggage handling                       0\n",
       "Checkin service                        0\n",
       "Inflight service                       0\n",
       "Cleanliness                            0\n",
       "Departure Delay in Minutes             0\n",
       "Gender                                 0\n",
       "dtype: int64"
      ]
     },
     "execution_count": 9,
     "metadata": {},
     "output_type": "execute_result"
    }
   ],
   "source": [
    "print('\\nJumlah Missing Values pada masing-masing Kolom, adalah:')\n",
    "airline.isnull().sum().sort_values(ascending=False)"
   ]
  },
  {
   "cell_type": "code",
   "execution_count": 10,
   "metadata": {
    "colab": {
     "base_uri": "https://localhost:8080/"
    },
    "id": "56FduyiAdopo",
    "outputId": "e82b67fa-e766-4254-8c10-05a7bb4c8b31"
   },
   "outputs": [
    {
     "data": {
      "text/plain": [
       "False    103904\n",
       "Name: Arrival Delay in Minutes, dtype: int64"
      ]
     },
     "execution_count": 10,
     "metadata": {},
     "output_type": "execute_result"
    }
   ],
   "source": [
    "# Mengisi Missing Value dengan Median\n",
    "airline['Arrival Delay in Minutes'] = airline['Arrival Delay in Minutes'].fillna(airline['Arrival Delay in Minutes'].median())\n",
    "\n",
    "# Checking again\n",
    "np.isnan(airline['Arrival Delay in Minutes']).value_counts()"
   ]
  },
  {
   "cell_type": "code",
   "execution_count": 11,
   "metadata": {
    "colab": {
     "base_uri": "https://localhost:8080/"
    },
    "id": "So62YAq8jemO",
    "outputId": "582c58ef-f497-4482-be96-6017f16473fd"
   },
   "outputs": [
    {
     "name": "stdout",
     "output_type": "stream",
     "text": [
      "\n",
      "Jumlah Missing Values Setelah Di-imputasi, adalah:\n"
     ]
    },
    {
     "data": {
      "text/plain": [
       "satisfaction                         0\n",
       "Food and drink                       0\n",
       "Customer Type                        0\n",
       "Age                                  0\n",
       "Type of Travel                       0\n",
       "Class                                0\n",
       "Flight Distance                      0\n",
       "Inflight wifi service                0\n",
       "Departure/Arrival time convenient    0\n",
       "Ease of Online booking               0\n",
       "Gate location                        0\n",
       "Online boarding                      0\n",
       "Arrival Delay in Minutes             0\n",
       "Seat comfort                         0\n",
       "Inflight entertainment               0\n",
       "On-board service                     0\n",
       "Leg room service                     0\n",
       "Baggage handling                     0\n",
       "Checkin service                      0\n",
       "Inflight service                     0\n",
       "Cleanliness                          0\n",
       "Departure Delay in Minutes           0\n",
       "Gender                               0\n",
       "dtype: int64"
      ]
     },
     "execution_count": 11,
     "metadata": {},
     "output_type": "execute_result"
    }
   ],
   "source": [
    "print('\\nJumlah Missing Values Setelah Di-imputasi, adalah:')\n",
    "airline.isnull().sum().sort_values(ascending=False)"
   ]
  },
  {
   "cell_type": "markdown",
   "metadata": {
    "id": "IMUTVi58bzUh"
   },
   "source": [
    "#### ***Data Visualization***"
   ]
  },
  {
   "cell_type": "markdown",
   "metadata": {
    "id": "F0UdjCsJeW_F"
   },
   "source": [
    "##### - **Variabel Kategorik dengan Variabel Target (*Customer Satisfaction*)**"
   ]
  },
  {
   "cell_type": "code",
   "execution_count": 12,
   "metadata": {
    "colab": {
     "base_uri": "https://localhost:8080/",
     "height": 636
    },
    "id": "I-g_v7bGm1lY",
    "outputId": "5767eb59-fe81-40fe-c488-b9c8cc19de6d"
   },
   "outputs": [
    {
     "data": {
      "text/plain": [
       "<matplotlib.axes._subplots.AxesSubplot at 0x1420d823700>"
      ]
     },
     "execution_count": 12,
     "metadata": {},
     "output_type": "execute_result"
    },
    {
     "data": {
      "image/png": "[encoded data removed]",
      "text/plain": [
       "<Figure size 1152x720 with 4 Axes>"
      ]
     },
     "metadata": {},
     "output_type": "display_data"
    }
   ],
   "source": [
    "import matplotlib.pyplot as plt\n",
    "sns.set_style('whitegrid')\n",
    "fig, ax = plt.subplots(2,2, figsize=(16,10))\n",
    "sns.set_context('paper', font_scale=1)\n",
    "\n",
    "ax[0][0].set_title('Customer Satisfaction by Class')\n",
    "sns.countplot(x='satisfaction', data = airline, hue = 'Class', palette = 'copper', ax=ax[0][0])\n",
    "\n",
    "ax[0][1].set_title('Customer Satisfaction by Customer Type')\n",
    "sns.countplot(x='satisfaction', data = airline, hue = 'Customer Type', palette = 'copper', ax=ax[0][1])\n",
    "\n",
    "ax[1][0].set_title('Customer Satisfaction by Type of Travel')\n",
    "sns.countplot(x='satisfaction', data = airline, hue = 'Type of Travel', palette = 'copper', ax=ax[1][0])\n",
    "\n",
    "ax[1][1].set_title('Customer Satisfaction by Gender')\n",
    "sns.countplot(x='satisfaction', data = airline, hue = 'Gender', palette = 'copper', ax=ax[1][1])"
   ]
  },
  {
   "cell_type": "markdown",
   "metadata": {
    "id": "lUDu84ceXz_Q"
   },
   "source": [
    "##### - **Variabel Berskala Likert**"
   ]
  },
  {
   "cell_type": "code",
   "execution_count": 13,
   "metadata": {
    "id": "n86uvUt_ClKT"
   },
   "outputs": [],
   "source": [
    "def bar_plot(variable):\n",
    "    \n",
    "    var=airline[variable]\n",
    "    var_Value=var.value_counts()\n",
    "    \n",
    "    # Visualize\n",
    "    plt.figure(figsize=(12,6))\n",
    "    plt.bar(var_Value.index,var_Value.values, color='darksalmon')\n",
    "    \n",
    "    plt.xlabel(\"Score\")\n",
    "    plt.ylabel(\"Frequency\")\n",
    "    plt.title(variable)\n",
    "    plt.show()\n",
    "    print(\"{}: \\n {}\".format(variable,var_Value))"
   ]
  },
  {
   "cell_type": "code",
   "execution_count": 14,
   "metadata": {
    "colab": {
     "base_uri": "https://localhost:8080/",
     "height": 1000
    },
    "id": "XVdKRyrIECtW",
    "outputId": "8916fcdd-d3c6-41bf-8091-c4793e2b4fe5"
   },
   "outputs": [
    {
     "data": {
      "image/png": "[encoded data removed]",
      "text/plain": [
       "<Figure size 864x432 with 1 Axes>"
      ]
     },
     "metadata": {},
     "output_type": "display_data"
    },
    {
     "name": "stdout",
     "output_type": "stream",
     "text": [
      "Inflight wifi service: \n",
      " 3    25868\n",
      "2    25830\n",
      "4    19794\n",
      "1    17840\n",
      "5    11469\n",
      "0     3103\n",
      "Name: Inflight wifi service, dtype: int64\n"
     ]
    },
    {
     "data": {
      "image/png": "[encoded data removed]",
      "text/plain": [
       "<Figure size 864x432 with 1 Axes>"
      ]
     },
     "metadata": {},
     "output_type": "display_data"
    },
    {
     "name": "stdout",
     "output_type": "stream",
     "text": [
      "Departure/Arrival time convenient: \n",
      " 4    25546\n",
      "5    22403\n",
      "3    17966\n",
      "2    17191\n",
      "1    15498\n",
      "0     5300\n",
      "Name: Departure/Arrival time convenient, dtype: int64\n"
     ]
    },
    {
     "data": {
      "image/png": "[encoded data removed]",
      "text/plain": [
       "<Figure size 864x432 with 1 Axes>"
      ]
     },
     "metadata": {},
     "output_type": "display_data"
    },
    {
     "name": "stdout",
     "output_type": "stream",
     "text": [
      "Ease of Online booking: \n",
      " 3    24449\n",
      "2    24021\n",
      "4    19571\n",
      "1    17525\n",
      "5    13851\n",
      "0     4487\n",
      "Name: Ease of Online booking, dtype: int64\n"
     ]
    },
    {
     "data": {
      "image/png": "[encoded data removed]",
      "text/plain": [
       "<Figure size 864x432 with 1 Axes>"
      ]
     },
     "metadata": {},
     "output_type": "display_data"
    },
    {
     "name": "stdout",
     "output_type": "stream",
     "text": [
      "Gate location: \n",
      " 3    28577\n",
      "4    24426\n",
      "2    19459\n",
      "1    17562\n",
      "5    13879\n",
      "0        1\n",
      "Name: Gate location, dtype: int64\n"
     ]
    },
    {
     "data": {
      "image/png": "[encoded data removed]",
      "text/plain": [
       "<Figure size 864x432 with 1 Axes>"
      ]
     },
     "metadata": {},
     "output_type": "display_data"
    },
    {
     "name": "stdout",
     "output_type": "stream",
     "text": [
      "Food and drink: \n",
      " 4    24359\n",
      "5    22313\n",
      "3    22300\n",
      "2    21988\n",
      "1    12837\n",
      "0      107\n",
      "Name: Food and drink, dtype: int64\n"
     ]
    },
    {
     "data": {
      "image/png": "[encoded data removed]",
      "text/plain": [
       "<Figure size 864x432 with 1 Axes>"
      ]
     },
     "metadata": {},
     "output_type": "display_data"
    },
    {
     "name": "stdout",
     "output_type": "stream",
     "text": [
      "Online boarding: \n",
      " 4    30762\n",
      "3    21804\n",
      "5    20713\n",
      "2    17505\n",
      "1    10692\n",
      "0     2428\n",
      "Name: Online boarding, dtype: int64\n"
     ]
    },
    {
     "data": {
      "image/png": "[encoded data removed]",
      "text/plain": [
       "<Figure size 864x432 with 1 Axes>"
      ]
     },
     "metadata": {},
     "output_type": "display_data"
    },
    {
     "name": "stdout",
     "output_type": "stream",
     "text": [
      "Seat comfort: \n",
      " 4    31765\n",
      "5    26470\n",
      "3    18696\n",
      "2    14897\n",
      "1    12075\n",
      "0        1\n",
      "Name: Seat comfort, dtype: int64\n"
     ]
    },
    {
     "data": {
      "image/png": "[encoded data removed]",
      "text/plain": [
       "<Figure size 864x432 with 1 Axes>"
      ]
     },
     "metadata": {},
     "output_type": "display_data"
    },
    {
     "name": "stdout",
     "output_type": "stream",
     "text": [
      "Inflight entertainment: \n",
      " 4    29423\n",
      "5    25213\n",
      "3    19139\n",
      "2    17637\n",
      "1    12478\n",
      "0       14\n",
      "Name: Inflight entertainment, dtype: int64\n"
     ]
    },
    {
     "data": {
      "image/png": "[encoded data removed]",
      "text/plain": [
       "<Figure size 864x432 with 1 Axes>"
      ]
     },
     "metadata": {},
     "output_type": "display_data"
    },
    {
     "name": "stdout",
     "output_type": "stream",
     "text": [
      "On-board service: \n",
      " 4    30867\n",
      "5    23648\n",
      "3    22833\n",
      "2    14681\n",
      "1    11872\n",
      "0        3\n",
      "Name: On-board service, dtype: int64\n"
     ]
    },
    {
     "data": {
      "image/png": "[encoded data removed]",
      "text/plain": [
       "<Figure size 864x432 with 1 Axes>"
      ]
     },
     "metadata": {},
     "output_type": "display_data"
    },
    {
     "name": "stdout",
     "output_type": "stream",
     "text": [
      "Leg room service: \n",
      " 4    28789\n",
      "5    24667\n",
      "3    20098\n",
      "2    19525\n",
      "1    10353\n",
      "0      472\n",
      "Name: Leg room service, dtype: int64\n"
     ]
    },
    {
     "data": {
      "image/png": "[encoded data removed]",
      "text/plain": [
       "<Figure size 864x432 with 1 Axes>"
      ]
     },
     "metadata": {},
     "output_type": "display_data"
    },
    {
     "name": "stdout",
     "output_type": "stream",
     "text": [
      "Baggage handling: \n",
      " 4    37383\n",
      "5    27131\n",
      "3    20632\n",
      "2    11521\n",
      "1     7237\n",
      "Name: Baggage handling, dtype: int64\n"
     ]
    },
    {
     "data": {
      "image/png": "[encoded data removed]",
      "text/plain": [
       "<Figure size 864x432 with 1 Axes>"
      ]
     },
     "metadata": {},
     "output_type": "display_data"
    },
    {
     "name": "stdout",
     "output_type": "stream",
     "text": [
      "Checkin service: \n",
      " 4    29055\n",
      "3    28446\n",
      "5    20619\n",
      "2    12893\n",
      "1    12890\n",
      "0        1\n",
      "Name: Checkin service, dtype: int64\n"
     ]
    },
    {
     "data": {
      "image/png": "[encoded data removed]",
      "text/plain": [
       "<Figure size 864x432 with 1 Axes>"
      ]
     },
     "metadata": {},
     "output_type": "display_data"
    },
    {
     "name": "stdout",
     "output_type": "stream",
     "text": [
      "Inflight service: \n",
      " 4    37945\n",
      "5    27116\n",
      "3    20299\n",
      "2    11457\n",
      "1     7084\n",
      "0        3\n",
      "Name: Inflight service, dtype: int64\n"
     ]
    },
    {
     "data": {
      "image/png": "[encoded data removed]",
      "text/plain": [
       "<Figure size 864x432 with 1 Axes>"
      ]
     },
     "metadata": {},
     "output_type": "display_data"
    },
    {
     "name": "stdout",
     "output_type": "stream",
     "text": [
      "Cleanliness: \n",
      " 4    27179\n",
      "3    24574\n",
      "5    22689\n",
      "2    16132\n",
      "1    13318\n",
      "0       12\n",
      "Name: Cleanliness, dtype: int64\n"
     ]
    }
   ],
   "source": [
    "likert = [\"Inflight wifi service\", \"Departure/Arrival time convenient\", \t\n",
    "               \"Ease of Online booking\", \t\"Gate location\", \t\"Food and drink\", \"Online boarding\",\n",
    "               \"Seat comfort\",\"Inflight entertainment\",\"On-board service\",\n",
    "               \"Leg room service\",\"Baggage handling\",\"Checkin service\",\n",
    "               \"Inflight service\",\"Cleanliness\",]\n",
    "for c in likert:\n",
    "    bar_plot(c)"
   ]
  },
  {
   "cell_type": "code",
   "execution_count": 15,
   "metadata": {
    "id": "PmRmIpPLFJH6"
   },
   "outputs": [],
   "source": [
    "airline_likert = airline.copy()"
   ]
  },
  {
   "cell_type": "code",
   "execution_count": 16,
   "metadata": {
    "colab": {
     "base_uri": "https://localhost:8080/"
    },
    "id": "bZ5jkdqpGxLN",
    "outputId": "6c724fd2-e512-473d-ed26-518b34f0d007"
   },
   "outputs": [
    {
     "data": {
      "text/plain": [
       "0  Inflight service                     3.640428\n",
       "   Baggage handling                     3.631833\n",
       "   Seat comfort                         3.439396\n",
       "   On-board service                     3.382363\n",
       "   Inflight entertainment               3.358158\n",
       "   Leg room service                     3.351055\n",
       "   Checkin service                      3.304290\n",
       "   Cleanliness                          3.286351\n",
       "   Online boarding                      3.250375\n",
       "   Food and drink                       3.202129\n",
       "   Departure/Arrival time convenient    3.060296\n",
       "   Gate location                        2.976883\n",
       "   Ease of Online booking               2.756901\n",
       "   Inflight wifi service                2.729683\n",
       "dtype: float64"
      ]
     },
     "execution_count": 16,
     "metadata": {},
     "output_type": "execute_result"
    }
   ],
   "source": [
    "likert2 = { 'Inflight wifi service' : [airline_likert['Inflight wifi service'].mean()],\n",
    "'Departure/Arrival time convenient' : [airline_likert['Departure/Arrival time convenient'].mean()],\n",
    "'Ease of Online booking' : [airline_likert['Ease of Online booking'].mean()],''\n",
    "'Gate location' : [airline_likert['Gate location'].mean()],\n",
    "'Food and drink' : [airline_likert['Food and drink'].mean()],\n",
    "'Online boarding' : [airline_likert['Online boarding'].mean()],\n",
    "'Seat comfort' : [airline_likert['Seat comfort'].mean()],\n",
    "'Inflight entertainment' : [airline_likert['Inflight entertainment'].mean()],\n",
    "'On-board service' : [airline_likert['On-board service'].mean()],\n",
    "'Leg room service' : [airline_likert['Leg room service'].mean()],\n",
    "'Baggage handling' : [airline_likert['Baggage handling'].mean()],\n",
    "'Checkin service' : [airline_likert['Checkin service'].mean()],\n",
    "'Inflight service' : [airline_likert['Inflight service'].mean()],\n",
    "'Cleanliness' : [airline_likert['Cleanliness'].mean()]}\n",
    "\n",
    "df_likert = pd.DataFrame(likert2).stack()\n",
    "df_likert = df_likert.sort_values(ascending=False)\n",
    "df_likert"
   ]
  },
  {
   "cell_type": "code",
   "execution_count": 17,
   "metadata": {
    "colab": {
     "base_uri": "https://localhost:8080/",
     "height": 446
    },
    "id": "HEZRcUCoUqlv",
    "outputId": "fbe3103f-19f3-4daf-80c3-da849a603817"
   },
   "outputs": [
    {
     "data": {
      "text/plain": [
       "<matplotlib.axes._subplots.AxesSubplot at 0x1420da1d760>"
      ]
     },
     "execution_count": 17,
     "metadata": {},
     "output_type": "execute_result"
    },
    {
     "data": {
      "image/png": "[encoded data removed]",
      "text/plain": [
       "<Figure size 864x504 with 1 Axes>"
      ]
     },
     "metadata": {},
     "output_type": "display_data"
    }
   ],
   "source": [
    "df_likert.plot(kind=\"barh\",color='rosybrown',figsize=(12,7))"
   ]
  },
  {
   "cell_type": "markdown",
   "metadata": {
    "id": "r9GcgsYwZVEL"
   },
   "source": [
    "##### - **Distribusi Variabel Numerik**"
   ]
  },
  {
   "cell_type": "code",
   "execution_count": 18,
   "metadata": {
    "id": "0nknSHS3ZUE5"
   },
   "outputs": [],
   "source": [
    "def plot_hist(variable):\n",
    "    plt.figure(figsize=(12,6))\n",
    "    plt.hist(airline[variable],bins=50,color='darkcyan')\n",
    "    plt.xlabel(variable)\n",
    "    plt.ylabel(\"Fruequency\")\n",
    "    plt.title(\"{} distribution with histogram\".format(variable))\n",
    "    plt.show()"
   ]
  },
  {
   "cell_type": "code",
   "execution_count": 19,
   "metadata": {
    "colab": {
     "base_uri": "https://localhost:8080/",
     "height": 1000
    },
    "id": "yJb9ZD1TZpVF",
    "outputId": "09cf9924-f76d-46ab-9756-1a00f3342868"
   },
   "outputs": [
    {
     "data": {
      "image/png": "[encoded data removed]",
      "text/plain": [
       "<Figure size 864x432 with 1 Axes>"
      ]
     },
     "metadata": {},
     "output_type": "display_data"
    },
    {
     "data": {
      "image/png": "[encoded data removed]",
      "text/plain": [
       "<Figure size 864x432 with 1 Axes>"
      ]
     },
     "metadata": {},
     "output_type": "display_data"
    },
    {
     "data": {
      "image/png": "[encoded data removed]",
      "text/plain": [
       "<Figure size 864x432 with 1 Axes>"
      ]
     },
     "metadata": {},
     "output_type": "display_data"
    },
    {
     "data": {
      "image/png": "[encoded data removed]",
      "text/plain": [
       "<Figure size 864x432 with 1 Axes>"
      ]
     },
     "metadata": {},
     "output_type": "display_data"
    }
   ],
   "source": [
    "numerik=[\"Age\", \"Flight Distance\", \"Departure Delay in Minutes\", \"Arrival Delay in Minutes\"]\n",
    "for n in numerik:\n",
    "    plot_hist(n)"
   ]
  },
  {
   "cell_type": "markdown",
   "metadata": {
    "id": "i0JkfgIre-UI"
   },
   "source": [
    "##### - ***Class Proportion Detection***"
   ]
  },
  {
   "cell_type": "code",
   "execution_count": 20,
   "metadata": {
    "colab": {
     "base_uri": "https://localhost:8080/",
     "height": 443
    },
    "id": "S-xR9i9_zwe8",
    "outputId": "132b97a3-e021-43e9-ca13-059f62caa3ce"
   },
   "outputs": [
    {
     "data": {
      "image/png": "[encoded data removed]",
      "text/plain": [
       "<Figure size 864x504 with 1 Axes>"
      ]
     },
     "metadata": {},
     "output_type": "display_data"
    }
   ],
   "source": [
    "import matplotlib.pyplot as plt\n",
    "fig = plt.figure(figsize = (12,7))\n",
    "airline.satisfaction.value_counts(normalize = True).plot(kind='bar', color= ['rosybrown','salmon'], alpha = 0.9, rot=0)\n",
    "plt.title('Satisfaction Indicator (0) and (1) in the Dataset')\n",
    "plt.show()"
   ]
  },
  {
   "cell_type": "markdown",
   "metadata": {
    "id": "R7YZ8VwbpD8X"
   },
   "source": [
    "Berdasarkan hasil barplot di atas, tidak terlihat adanya ketidakseimbangan yang signifikan (selisih signifikan) antara kelas `satisfied` dengan `neutral/dissatisfied`. Oleh karena itu, tidak perlu dilakukan penanganan proporsi kelas agar seimbang."
   ]
  },
  {
   "cell_type": "markdown",
   "metadata": {
    "id": "uxL9jbFPcL63"
   },
   "source": [
    "### ***Outliers Detection***"
   ]
  },
  {
   "cell_type": "markdown",
   "metadata": {
    "id": "7izQwqQXaMzL"
   },
   "source": [
    "####  **Mendeteksi *Outlier* dengan BoxPlot**"
   ]
  },
  {
   "cell_type": "code",
   "execution_count": 21,
   "metadata": {
    "colab": {
     "base_uri": "https://localhost:8080/",
     "height": 476
    },
    "id": "6fHpI0qTv9Cu",
    "outputId": "65928063-6ca4-44fa-90ee-dd45005b86b9"
   },
   "outputs": [
    {
     "data": {
      "text/html": [
       "<div>\n",
       "<style scoped>\n",
       "    .dataframe tbody tr th:only-of-type {\n",
       "        vertical-align: middle;\n",
       "    }\n",
       "\n",
       "    .dataframe tbody tr th {\n",
       "        vertical-align: top;\n",
       "    }\n",
       "\n",
       "    .dataframe thead th {\n",
       "        text-align: right;\n",
       "    }\n",
       "</style>\n",
       "<table border=\"1\" class=\"dataframe\">\n",
       "  <thead>\n",
       "    <tr style=\"text-align: right;\">\n",
       "      <th></th>\n",
       "      <th>Age</th>\n",
       "      <th>Flight Distance</th>\n",
       "      <th>Inflight wifi service</th>\n",
       "      <th>Departure/Arrival time convenient</th>\n",
       "      <th>Ease of Online booking</th>\n",
       "      <th>Gate location</th>\n",
       "      <th>Food and drink</th>\n",
       "      <th>Online boarding</th>\n",
       "      <th>Seat comfort</th>\n",
       "      <th>Inflight entertainment</th>\n",
       "      <th>On-board service</th>\n",
       "      <th>Leg room service</th>\n",
       "      <th>Baggage handling</th>\n",
       "      <th>Checkin service</th>\n",
       "      <th>Inflight service</th>\n",
       "      <th>Cleanliness</th>\n",
       "      <th>Departure Delay in Minutes</th>\n",
       "      <th>Arrival Delay in Minutes</th>\n",
       "    </tr>\n",
       "  </thead>\n",
       "  <tbody>\n",
       "    <tr>\n",
       "      <th>0</th>\n",
       "      <td>13</td>\n",
       "      <td>460</td>\n",
       "      <td>3</td>\n",
       "      <td>4</td>\n",
       "      <td>3</td>\n",
       "      <td>1</td>\n",
       "      <td>5</td>\n",
       "      <td>3</td>\n",
       "      <td>5</td>\n",
       "      <td>5</td>\n",
       "      <td>4</td>\n",
       "      <td>3</td>\n",
       "      <td>4</td>\n",
       "      <td>4</td>\n",
       "      <td>5</td>\n",
       "      <td>5</td>\n",
       "      <td>25</td>\n",
       "      <td>18.0</td>\n",
       "    </tr>\n",
       "    <tr>\n",
       "      <th>1</th>\n",
       "      <td>25</td>\n",
       "      <td>235</td>\n",
       "      <td>3</td>\n",
       "      <td>2</td>\n",
       "      <td>3</td>\n",
       "      <td>3</td>\n",
       "      <td>1</td>\n",
       "      <td>3</td>\n",
       "      <td>1</td>\n",
       "      <td>1</td>\n",
       "      <td>1</td>\n",
       "      <td>5</td>\n",
       "      <td>3</td>\n",
       "      <td>1</td>\n",
       "      <td>4</td>\n",
       "      <td>1</td>\n",
       "      <td>1</td>\n",
       "      <td>6.0</td>\n",
       "    </tr>\n",
       "    <tr>\n",
       "      <th>2</th>\n",
       "      <td>26</td>\n",
       "      <td>1142</td>\n",
       "      <td>2</td>\n",
       "      <td>2</td>\n",
       "      <td>2</td>\n",
       "      <td>2</td>\n",
       "      <td>5</td>\n",
       "      <td>5</td>\n",
       "      <td>5</td>\n",
       "      <td>5</td>\n",
       "      <td>4</td>\n",
       "      <td>3</td>\n",
       "      <td>4</td>\n",
       "      <td>4</td>\n",
       "      <td>4</td>\n",
       "      <td>5</td>\n",
       "      <td>0</td>\n",
       "      <td>0.0</td>\n",
       "    </tr>\n",
       "    <tr>\n",
       "      <th>3</th>\n",
       "      <td>25</td>\n",
       "      <td>562</td>\n",
       "      <td>2</td>\n",
       "      <td>5</td>\n",
       "      <td>5</td>\n",
       "      <td>5</td>\n",
       "      <td>2</td>\n",
       "      <td>2</td>\n",
       "      <td>2</td>\n",
       "      <td>2</td>\n",
       "      <td>2</td>\n",
       "      <td>5</td>\n",
       "      <td>3</td>\n",
       "      <td>1</td>\n",
       "      <td>4</td>\n",
       "      <td>2</td>\n",
       "      <td>11</td>\n",
       "      <td>9.0</td>\n",
       "    </tr>\n",
       "    <tr>\n",
       "      <th>4</th>\n",
       "      <td>61</td>\n",
       "      <td>214</td>\n",
       "      <td>3</td>\n",
       "      <td>3</td>\n",
       "      <td>3</td>\n",
       "      <td>3</td>\n",
       "      <td>4</td>\n",
       "      <td>5</td>\n",
       "      <td>5</td>\n",
       "      <td>3</td>\n",
       "      <td>3</td>\n",
       "      <td>4</td>\n",
       "      <td>4</td>\n",
       "      <td>3</td>\n",
       "      <td>3</td>\n",
       "      <td>3</td>\n",
       "      <td>0</td>\n",
       "      <td>0.0</td>\n",
       "    </tr>\n",
       "    <tr>\n",
       "      <th>...</th>\n",
       "      <td>...</td>\n",
       "      <td>...</td>\n",
       "      <td>...</td>\n",
       "      <td>...</td>\n",
       "      <td>...</td>\n",
       "      <td>...</td>\n",
       "      <td>...</td>\n",
       "      <td>...</td>\n",
       "      <td>...</td>\n",
       "      <td>...</td>\n",
       "      <td>...</td>\n",
       "      <td>...</td>\n",
       "      <td>...</td>\n",
       "      <td>...</td>\n",
       "      <td>...</td>\n",
       "      <td>...</td>\n",
       "      <td>...</td>\n",
       "      <td>...</td>\n",
       "    </tr>\n",
       "    <tr>\n",
       "      <th>103899</th>\n",
       "      <td>23</td>\n",
       "      <td>192</td>\n",
       "      <td>2</td>\n",
       "      <td>1</td>\n",
       "      <td>2</td>\n",
       "      <td>3</td>\n",
       "      <td>2</td>\n",
       "      <td>2</td>\n",
       "      <td>2</td>\n",
       "      <td>2</td>\n",
       "      <td>3</td>\n",
       "      <td>1</td>\n",
       "      <td>4</td>\n",
       "      <td>2</td>\n",
       "      <td>3</td>\n",
       "      <td>2</td>\n",
       "      <td>3</td>\n",
       "      <td>0.0</td>\n",
       "    </tr>\n",
       "    <tr>\n",
       "      <th>103900</th>\n",
       "      <td>49</td>\n",
       "      <td>2347</td>\n",
       "      <td>4</td>\n",
       "      <td>4</td>\n",
       "      <td>4</td>\n",
       "      <td>4</td>\n",
       "      <td>2</td>\n",
       "      <td>4</td>\n",
       "      <td>5</td>\n",
       "      <td>5</td>\n",
       "      <td>5</td>\n",
       "      <td>5</td>\n",
       "      <td>5</td>\n",
       "      <td>5</td>\n",
       "      <td>5</td>\n",
       "      <td>4</td>\n",
       "      <td>0</td>\n",
       "      <td>0.0</td>\n",
       "    </tr>\n",
       "    <tr>\n",
       "      <th>103901</th>\n",
       "      <td>30</td>\n",
       "      <td>1995</td>\n",
       "      <td>1</td>\n",
       "      <td>1</td>\n",
       "      <td>1</td>\n",
       "      <td>3</td>\n",
       "      <td>4</td>\n",
       "      <td>1</td>\n",
       "      <td>5</td>\n",
       "      <td>4</td>\n",
       "      <td>3</td>\n",
       "      <td>2</td>\n",
       "      <td>4</td>\n",
       "      <td>5</td>\n",
       "      <td>5</td>\n",
       "      <td>4</td>\n",
       "      <td>7</td>\n",
       "      <td>14.0</td>\n",
       "    </tr>\n",
       "    <tr>\n",
       "      <th>103902</th>\n",
       "      <td>22</td>\n",
       "      <td>1000</td>\n",
       "      <td>1</td>\n",
       "      <td>1</td>\n",
       "      <td>1</td>\n",
       "      <td>5</td>\n",
       "      <td>1</td>\n",
       "      <td>1</td>\n",
       "      <td>1</td>\n",
       "      <td>1</td>\n",
       "      <td>4</td>\n",
       "      <td>5</td>\n",
       "      <td>1</td>\n",
       "      <td>5</td>\n",
       "      <td>4</td>\n",
       "      <td>1</td>\n",
       "      <td>0</td>\n",
       "      <td>0.0</td>\n",
       "    </tr>\n",
       "    <tr>\n",
       "      <th>103903</th>\n",
       "      <td>27</td>\n",
       "      <td>1723</td>\n",
       "      <td>1</td>\n",
       "      <td>3</td>\n",
       "      <td>3</td>\n",
       "      <td>3</td>\n",
       "      <td>1</td>\n",
       "      <td>1</td>\n",
       "      <td>1</td>\n",
       "      <td>1</td>\n",
       "      <td>1</td>\n",
       "      <td>1</td>\n",
       "      <td>4</td>\n",
       "      <td>4</td>\n",
       "      <td>3</td>\n",
       "      <td>1</td>\n",
       "      <td>0</td>\n",
       "      <td>0.0</td>\n",
       "    </tr>\n",
       "  </tbody>\n",
       "</table>\n",
       "<p>103904 rows × 18 columns</p>\n",
       "</div>"
      ],
      "text/plain": [
       "        Age  Flight Distance  Inflight wifi service  \\\n",
       "0        13              460                      3   \n",
       "1        25              235                      3   \n",
       "2        26             1142                      2   \n",
       "3        25              562                      2   \n",
       "4        61              214                      3   \n",
       "...     ...              ...                    ...   \n",
       "103899   23              192                      2   \n",
       "103900   49             2347                      4   \n",
       "103901   30             1995                      1   \n",
       "103902   22             1000                      1   \n",
       "103903   27             1723                      1   \n",
       "\n",
       "        Departure/Arrival time convenient  Ease of Online booking  \\\n",
       "0                                       4                       3   \n",
       "1                                       2                       3   \n",
       "2                                       2                       2   \n",
       "3                                       5                       5   \n",
       "4                                       3                       3   \n",
       "...                                   ...                     ...   \n",
       "103899                                  1                       2   \n",
       "103900                                  4                       4   \n",
       "103901                                  1                       1   \n",
       "103902                                  1                       1   \n",
       "103903                                  3                       3   \n",
       "\n",
       "        Gate location  Food and drink  Online boarding  Seat comfort  \\\n",
       "0                   1               5                3             5   \n",
       "1                   3               1                3             1   \n",
       "2                   2               5                5             5   \n",
       "3                   5               2                2             2   \n",
       "4                   3               4                5             5   \n",
       "...               ...             ...              ...           ...   \n",
       "103899              3               2                2             2   \n",
       "103900              4               2                4             5   \n",
       "103901              3               4                1             5   \n",
       "103902              5               1                1             1   \n",
       "103903              3               1                1             1   \n",
       "\n",
       "        Inflight entertainment  On-board service  Leg room service  \\\n",
       "0                            5                 4                 3   \n",
       "1                            1                 1                 5   \n",
       "2                            5                 4                 3   \n",
       "3                            2                 2                 5   \n",
       "4                            3                 3                 4   \n",
       "...                        ...               ...               ...   \n",
       "103899                       2                 3                 1   \n",
       "103900                       5                 5                 5   \n",
       "103901                       4                 3                 2   \n",
       "103902                       1                 4                 5   \n",
       "103903                       1                 1                 1   \n",
       "\n",
       "        Baggage handling  Checkin service  Inflight service  Cleanliness  \\\n",
       "0                      4                4                 5            5   \n",
       "1                      3                1                 4            1   \n",
       "2                      4                4                 4            5   \n",
       "3                      3                1                 4            2   \n",
       "4                      4                3                 3            3   \n",
       "...                  ...              ...               ...          ...   \n",
       "103899                 4                2                 3            2   \n",
       "103900                 5                5                 5            4   \n",
       "103901                 4                5                 5            4   \n",
       "103902                 1                5                 4            1   \n",
       "103903                 4                4                 3            1   \n",
       "\n",
       "        Departure Delay in Minutes  Arrival Delay in Minutes  \n",
       "0                               25                      18.0  \n",
       "1                                1                       6.0  \n",
       "2                                0                       0.0  \n",
       "3                               11                       9.0  \n",
       "4                                0                       0.0  \n",
       "...                            ...                       ...  \n",
       "103899                           3                       0.0  \n",
       "103900                           0                       0.0  \n",
       "103901                           7                      14.0  \n",
       "103902                           0                       0.0  \n",
       "103903                           0                       0.0  \n",
       "\n",
       "[103904 rows x 18 columns]"
      ]
     },
     "execution_count": 21,
     "metadata": {},
     "output_type": "execute_result"
    }
   ],
   "source": [
    "# Membuat Dataset tanpa Variabel Kategorik\n",
    "numerical_features = airline.select_dtypes(exclude=['category']).copy()\n",
    "numerical_features"
   ]
  },
  {
   "cell_type": "code",
   "execution_count": 22,
   "metadata": {
    "colab": {
     "base_uri": "https://localhost:8080/",
     "height": 751
    },
    "id": "qsQuq2NMaMzN",
    "outputId": "aebfc4ae-4efb-4d93-b7b3-a10a20f7638d"
   },
   "outputs": [
    {
     "data": {
      "image/png": "[encoded data removed]",
      "text/plain": [
       "<Figure size 864x1296 with 18 Axes>"
      ]
     },
     "metadata": {},
     "output_type": "display_data"
    }
   ],
   "source": [
    "# Visualisasi Sebelum Outlier Ditangani\n",
    "import matplotlib.pyplot as plt\n",
    "\n",
    "fig = plt.figure(figsize=(12,18))\n",
    "\n",
    "for i in range(len(numerical_features.columns)):\n",
    "    fig.add_subplot(9,4,i+1)\n",
    "    sns.boxplot(y=numerical_features.iloc[:,i])\n",
    "\n",
    "plt.tight_layout()\n",
    "plt.show()"
   ]
  },
  {
   "cell_type": "markdown",
   "metadata": {
    "id": "HUxpxRxipm-m"
   },
   "source": [
    "Dari boxplot tersebut, diperoleh informasi bahwa ditemukan outliers pada variabel berikut :\n",
    "- `Flight Distance`\n",
    "- `Checkin service`\n",
    "- `Departure Delay in Minutes`\n",
    "- `Arrival Delay in Minutes`\n",
    "\n",
    "sehingga perlu dilakukan penanganan outliers."
   ]
  },
  {
   "cell_type": "markdown",
   "metadata": {
    "id": "Zndb4ZkBaThK"
   },
   "source": [
    "#### **Mengatasi *Oulier***"
   ]
  },
  {
   "cell_type": "code",
   "execution_count": 23,
   "metadata": {
    "id": "0mx8aAvbaThL"
   },
   "outputs": [],
   "source": [
    "Q1 = (airline[['Flight Distance','Checkin service', 'Departure Delay in Minutes','Arrival Delay in Minutes']]).quantile(0.25)\n",
    "Q3 = (airline[['Flight Distance','Checkin service', 'Departure Delay in Minutes','Arrival Delay in Minutes']]).quantile(0.75)\n",
    "IQR = Q3-Q1\n",
    "\n",
    "max = Q3 + (1.5*IQR)\n",
    "min = Q1 - (1.5*IQR)\n",
    "\n",
    "airline['Flight Distance'].mask(airline['Flight Distance']>max['Flight Distance'],max['Flight Distance'],inplace=True)\n",
    "airline['Checkin service'].mask(airline['Checkin service']<min['Checkin service'],min['Checkin service'],inplace=True)\n",
    "airline['Departure Delay in Minutes'].mask(airline['Departure Delay in Minutes']>max['Departure Delay in Minutes'],max['Departure Delay in Minutes'],inplace=True)\n",
    "airline['Arrival Delay in Minutes'].mask(airline['Arrival Delay in Minutes']>max['Arrival Delay in Minutes'],max['Arrival Delay in Minutes'],inplace=True)"
   ]
  },
  {
   "cell_type": "code",
   "execution_count": 24,
   "metadata": {
    "colab": {
     "base_uri": "https://localhost:8080/",
     "height": 476
    },
    "id": "zBUO6UyEaThM",
    "outputId": "6c7badf7-0950-4e8b-aaac-e0c1efba6d3d"
   },
   "outputs": [
    {
     "data": {
      "text/html": [
       "<div>\n",
       "<style scoped>\n",
       "    .dataframe tbody tr th:only-of-type {\n",
       "        vertical-align: middle;\n",
       "    }\n",
       "\n",
       "    .dataframe tbody tr th {\n",
       "        vertical-align: top;\n",
       "    }\n",
       "\n",
       "    .dataframe thead th {\n",
       "        text-align: right;\n",
       "    }\n",
       "</style>\n",
       "<table border=\"1\" class=\"dataframe\">\n",
       "  <thead>\n",
       "    <tr style=\"text-align: right;\">\n",
       "      <th></th>\n",
       "      <th>Age</th>\n",
       "      <th>Flight Distance</th>\n",
       "      <th>Inflight wifi service</th>\n",
       "      <th>Departure/Arrival time convenient</th>\n",
       "      <th>Ease of Online booking</th>\n",
       "      <th>Gate location</th>\n",
       "      <th>Food and drink</th>\n",
       "      <th>Online boarding</th>\n",
       "      <th>Seat comfort</th>\n",
       "      <th>Inflight entertainment</th>\n",
       "      <th>On-board service</th>\n",
       "      <th>Leg room service</th>\n",
       "      <th>Baggage handling</th>\n",
       "      <th>Checkin service</th>\n",
       "      <th>Inflight service</th>\n",
       "      <th>Cleanliness</th>\n",
       "      <th>Departure Delay in Minutes</th>\n",
       "      <th>Arrival Delay in Minutes</th>\n",
       "    </tr>\n",
       "  </thead>\n",
       "  <tbody>\n",
       "    <tr>\n",
       "      <th>0</th>\n",
       "      <td>13</td>\n",
       "      <td>460.0</td>\n",
       "      <td>3</td>\n",
       "      <td>4</td>\n",
       "      <td>3</td>\n",
       "      <td>1</td>\n",
       "      <td>5</td>\n",
       "      <td>3</td>\n",
       "      <td>5</td>\n",
       "      <td>5</td>\n",
       "      <td>4</td>\n",
       "      <td>3</td>\n",
       "      <td>4</td>\n",
       "      <td>4.0</td>\n",
       "      <td>5</td>\n",
       "      <td>5</td>\n",
       "      <td>25</td>\n",
       "      <td>18.0</td>\n",
       "    </tr>\n",
       "    <tr>\n",
       "      <th>1</th>\n",
       "      <td>25</td>\n",
       "      <td>235.0</td>\n",
       "      <td>3</td>\n",
       "      <td>2</td>\n",
       "      <td>3</td>\n",
       "      <td>3</td>\n",
       "      <td>1</td>\n",
       "      <td>3</td>\n",
       "      <td>1</td>\n",
       "      <td>1</td>\n",
       "      <td>1</td>\n",
       "      <td>5</td>\n",
       "      <td>3</td>\n",
       "      <td>1.5</td>\n",
       "      <td>4</td>\n",
       "      <td>1</td>\n",
       "      <td>1</td>\n",
       "      <td>6.0</td>\n",
       "    </tr>\n",
       "    <tr>\n",
       "      <th>2</th>\n",
       "      <td>26</td>\n",
       "      <td>1142.0</td>\n",
       "      <td>2</td>\n",
       "      <td>2</td>\n",
       "      <td>2</td>\n",
       "      <td>2</td>\n",
       "      <td>5</td>\n",
       "      <td>5</td>\n",
       "      <td>5</td>\n",
       "      <td>5</td>\n",
       "      <td>4</td>\n",
       "      <td>3</td>\n",
       "      <td>4</td>\n",
       "      <td>4.0</td>\n",
       "      <td>4</td>\n",
       "      <td>5</td>\n",
       "      <td>0</td>\n",
       "      <td>0.0</td>\n",
       "    </tr>\n",
       "    <tr>\n",
       "      <th>3</th>\n",
       "      <td>25</td>\n",
       "      <td>562.0</td>\n",
       "      <td>2</td>\n",
       "      <td>5</td>\n",
       "      <td>5</td>\n",
       "      <td>5</td>\n",
       "      <td>2</td>\n",
       "      <td>2</td>\n",
       "      <td>2</td>\n",
       "      <td>2</td>\n",
       "      <td>2</td>\n",
       "      <td>5</td>\n",
       "      <td>3</td>\n",
       "      <td>1.5</td>\n",
       "      <td>4</td>\n",
       "      <td>2</td>\n",
       "      <td>11</td>\n",
       "      <td>9.0</td>\n",
       "    </tr>\n",
       "    <tr>\n",
       "      <th>4</th>\n",
       "      <td>61</td>\n",
       "      <td>214.0</td>\n",
       "      <td>3</td>\n",
       "      <td>3</td>\n",
       "      <td>3</td>\n",
       "      <td>3</td>\n",
       "      <td>4</td>\n",
       "      <td>5</td>\n",
       "      <td>5</td>\n",
       "      <td>3</td>\n",
       "      <td>3</td>\n",
       "      <td>4</td>\n",
       "      <td>4</td>\n",
       "      <td>3.0</td>\n",
       "      <td>3</td>\n",
       "      <td>3</td>\n",
       "      <td>0</td>\n",
       "      <td>0.0</td>\n",
       "    </tr>\n",
       "    <tr>\n",
       "      <th>...</th>\n",
       "      <td>...</td>\n",
       "      <td>...</td>\n",
       "      <td>...</td>\n",
       "      <td>...</td>\n",
       "      <td>...</td>\n",
       "      <td>...</td>\n",
       "      <td>...</td>\n",
       "      <td>...</td>\n",
       "      <td>...</td>\n",
       "      <td>...</td>\n",
       "      <td>...</td>\n",
       "      <td>...</td>\n",
       "      <td>...</td>\n",
       "      <td>...</td>\n",
       "      <td>...</td>\n",
       "      <td>...</td>\n",
       "      <td>...</td>\n",
       "      <td>...</td>\n",
       "    </tr>\n",
       "    <tr>\n",
       "      <th>103899</th>\n",
       "      <td>23</td>\n",
       "      <td>192.0</td>\n",
       "      <td>2</td>\n",
       "      <td>1</td>\n",
       "      <td>2</td>\n",
       "      <td>3</td>\n",
       "      <td>2</td>\n",
       "      <td>2</td>\n",
       "      <td>2</td>\n",
       "      <td>2</td>\n",
       "      <td>3</td>\n",
       "      <td>1</td>\n",
       "      <td>4</td>\n",
       "      <td>2.0</td>\n",
       "      <td>3</td>\n",
       "      <td>2</td>\n",
       "      <td>3</td>\n",
       "      <td>0.0</td>\n",
       "    </tr>\n",
       "    <tr>\n",
       "      <th>103900</th>\n",
       "      <td>49</td>\n",
       "      <td>2347.0</td>\n",
       "      <td>4</td>\n",
       "      <td>4</td>\n",
       "      <td>4</td>\n",
       "      <td>4</td>\n",
       "      <td>2</td>\n",
       "      <td>4</td>\n",
       "      <td>5</td>\n",
       "      <td>5</td>\n",
       "      <td>5</td>\n",
       "      <td>5</td>\n",
       "      <td>5</td>\n",
       "      <td>5.0</td>\n",
       "      <td>5</td>\n",
       "      <td>4</td>\n",
       "      <td>0</td>\n",
       "      <td>0.0</td>\n",
       "    </tr>\n",
       "    <tr>\n",
       "      <th>103901</th>\n",
       "      <td>30</td>\n",
       "      <td>1995.0</td>\n",
       "      <td>1</td>\n",
       "      <td>1</td>\n",
       "      <td>1</td>\n",
       "      <td>3</td>\n",
       "      <td>4</td>\n",
       "      <td>1</td>\n",
       "      <td>5</td>\n",
       "      <td>4</td>\n",
       "      <td>3</td>\n",
       "      <td>2</td>\n",
       "      <td>4</td>\n",
       "      <td>5.0</td>\n",
       "      <td>5</td>\n",
       "      <td>4</td>\n",
       "      <td>7</td>\n",
       "      <td>14.0</td>\n",
       "    </tr>\n",
       "    <tr>\n",
       "      <th>103902</th>\n",
       "      <td>22</td>\n",
       "      <td>1000.0</td>\n",
       "      <td>1</td>\n",
       "      <td>1</td>\n",
       "      <td>1</td>\n",
       "      <td>5</td>\n",
       "      <td>1</td>\n",
       "      <td>1</td>\n",
       "      <td>1</td>\n",
       "      <td>1</td>\n",
       "      <td>4</td>\n",
       "      <td>5</td>\n",
       "      <td>1</td>\n",
       "      <td>5.0</td>\n",
       "      <td>4</td>\n",
       "      <td>1</td>\n",
       "      <td>0</td>\n",
       "      <td>0.0</td>\n",
       "    </tr>\n",
       "    <tr>\n",
       "      <th>103903</th>\n",
       "      <td>27</td>\n",
       "      <td>1723.0</td>\n",
       "      <td>1</td>\n",
       "      <td>3</td>\n",
       "      <td>3</td>\n",
       "      <td>3</td>\n",
       "      <td>1</td>\n",
       "      <td>1</td>\n",
       "      <td>1</td>\n",
       "      <td>1</td>\n",
       "      <td>1</td>\n",
       "      <td>1</td>\n",
       "      <td>4</td>\n",
       "      <td>4.0</td>\n",
       "      <td>3</td>\n",
       "      <td>1</td>\n",
       "      <td>0</td>\n",
       "      <td>0.0</td>\n",
       "    </tr>\n",
       "  </tbody>\n",
       "</table>\n",
       "<p>103904 rows × 18 columns</p>\n",
       "</div>"
      ],
      "text/plain": [
       "        Age  Flight Distance  Inflight wifi service  \\\n",
       "0        13            460.0                      3   \n",
       "1        25            235.0                      3   \n",
       "2        26           1142.0                      2   \n",
       "3        25            562.0                      2   \n",
       "4        61            214.0                      3   \n",
       "...     ...              ...                    ...   \n",
       "103899   23            192.0                      2   \n",
       "103900   49           2347.0                      4   \n",
       "103901   30           1995.0                      1   \n",
       "103902   22           1000.0                      1   \n",
       "103903   27           1723.0                      1   \n",
       "\n",
       "        Departure/Arrival time convenient  Ease of Online booking  \\\n",
       "0                                       4                       3   \n",
       "1                                       2                       3   \n",
       "2                                       2                       2   \n",
       "3                                       5                       5   \n",
       "4                                       3                       3   \n",
       "...                                   ...                     ...   \n",
       "103899                                  1                       2   \n",
       "103900                                  4                       4   \n",
       "103901                                  1                       1   \n",
       "103902                                  1                       1   \n",
       "103903                                  3                       3   \n",
       "\n",
       "        Gate location  Food and drink  Online boarding  Seat comfort  \\\n",
       "0                   1               5                3             5   \n",
       "1                   3               1                3             1   \n",
       "2                   2               5                5             5   \n",
       "3                   5               2                2             2   \n",
       "4                   3               4                5             5   \n",
       "...               ...             ...              ...           ...   \n",
       "103899              3               2                2             2   \n",
       "103900              4               2                4             5   \n",
       "103901              3               4                1             5   \n",
       "103902              5               1                1             1   \n",
       "103903              3               1                1             1   \n",
       "\n",
       "        Inflight entertainment  On-board service  Leg room service  \\\n",
       "0                            5                 4                 3   \n",
       "1                            1                 1                 5   \n",
       "2                            5                 4                 3   \n",
       "3                            2                 2                 5   \n",
       "4                            3                 3                 4   \n",
       "...                        ...               ...               ...   \n",
       "103899                       2                 3                 1   \n",
       "103900                       5                 5                 5   \n",
       "103901                       4                 3                 2   \n",
       "103902                       1                 4                 5   \n",
       "103903                       1                 1                 1   \n",
       "\n",
       "        Baggage handling  Checkin service  Inflight service  Cleanliness  \\\n",
       "0                      4              4.0                 5            5   \n",
       "1                      3              1.5                 4            1   \n",
       "2                      4              4.0                 4            5   \n",
       "3                      3              1.5                 4            2   \n",
       "4                      4              3.0                 3            3   \n",
       "...                  ...              ...               ...          ...   \n",
       "103899                 4              2.0                 3            2   \n",
       "103900                 5              5.0                 5            4   \n",
       "103901                 4              5.0                 5            4   \n",
       "103902                 1              5.0                 4            1   \n",
       "103903                 4              4.0                 3            1   \n",
       "\n",
       "        Departure Delay in Minutes  Arrival Delay in Minutes  \n",
       "0                               25                      18.0  \n",
       "1                                1                       6.0  \n",
       "2                                0                       0.0  \n",
       "3                               11                       9.0  \n",
       "4                                0                       0.0  \n",
       "...                            ...                       ...  \n",
       "103899                           3                       0.0  \n",
       "103900                           0                       0.0  \n",
       "103901                           7                      14.0  \n",
       "103902                           0                       0.0  \n",
       "103903                           0                       0.0  \n",
       "\n",
       "[103904 rows x 18 columns]"
      ]
     },
     "execution_count": 24,
     "metadata": {},
     "output_type": "execute_result"
    }
   ],
   "source": [
    "numerical_features = airline.select_dtypes(exclude=['category']).copy()\n",
    "numerical_features"
   ]
  },
  {
   "cell_type": "code",
   "execution_count": 25,
   "metadata": {
    "colab": {
     "base_uri": "https://localhost:8080/",
     "height": 751
    },
    "id": "2QnnDk7SaThM",
    "outputId": "d78b56cd-1566-4326-d98c-1cce4422232f"
   },
   "outputs": [
    {
     "data": {
      "image/png": "[encoded data removed]",
      "text/plain": [
       "<Figure size 864x1296 with 18 Axes>"
      ]
     },
     "metadata": {},
     "output_type": "display_data"
    }
   ],
   "source": [
    "# Visualisasi Setelah Outlier Ditangani\n",
    "fig = plt.figure(figsize=(12,18))\n",
    "\n",
    "for i in range(len(numerical_features.columns)):\n",
    "    fig.add_subplot(9,4,i+1)\n",
    "    sns.boxplot(y=numerical_features.iloc[:,i])\n",
    "\n",
    "plt.tight_layout()\n",
    "plt.show()"
   ]
  },
  {
   "cell_type": "markdown",
   "metadata": {
    "id": "3-S5Kh1kxZP2"
   },
   "source": [
    "### ***Building a Model***"
   ]
  },
  {
   "cell_type": "markdown",
   "metadata": {
    "id": "Bdr6ib5-ddm3"
   },
   "source": [
    "#### **Encoding Data**"
   ]
  },
  {
   "cell_type": "code",
   "execution_count": 26,
   "metadata": {
    "colab": {
     "base_uri": "https://localhost:8080/"
    },
    "id": "p4YSoZii3t7b",
    "outputId": "6a70f7b0-2d67-4e5e-866a-cb7e42d99471"
   },
   "outputs": [],
   "source": [
    "from sklearn.preprocessing import LabelEncoder\n",
    "# Convert Semua Variabel Non-Numerik menjadi Variabel Bertipe Numerik\n",
    "for column in airline.columns:\n",
    "    if airline[column].dtype == np.number: continue\n",
    "    # Perform Encoding untuk Setiap Variabel Non-Numerik\n",
    "    airline[column] = LabelEncoder().fit_transform(airline[column])"
   ]
  },
  {
   "cell_type": "code",
   "execution_count": 27,
   "metadata": {
    "colab": {
     "base_uri": "https://localhost:8080/",
     "height": 376
    },
    "id": "DsGdb6Xl4DEP",
    "outputId": "ffef5a0b-c763-441d-d2a6-d4aa12c1cc8d"
   },
   "outputs": [
    {
     "name": "stdout",
     "output_type": "stream",
     "text": [
      "\n",
      "Dataset Setelah Encoding, adalah:\n"
     ]
    },
    {
     "data": {
      "text/html": [
       "<div>\n",
       "<style scoped>\n",
       "    .dataframe tbody tr th:only-of-type {\n",
       "        vertical-align: middle;\n",
       "    }\n",
       "\n",
       "    .dataframe tbody tr th {\n",
       "        vertical-align: top;\n",
       "    }\n",
       "\n",
       "    .dataframe thead th {\n",
       "        text-align: right;\n",
       "    }\n",
       "</style>\n",
       "<table border=\"1\" class=\"dataframe\">\n",
       "  <thead>\n",
       "    <tr style=\"text-align: right;\">\n",
       "      <th></th>\n",
       "      <th>Gender</th>\n",
       "      <th>Customer Type</th>\n",
       "      <th>Age</th>\n",
       "      <th>Type of Travel</th>\n",
       "      <th>Class</th>\n",
       "      <th>Flight Distance</th>\n",
       "      <th>Inflight wifi service</th>\n",
       "      <th>Departure/Arrival time convenient</th>\n",
       "      <th>Ease of Online booking</th>\n",
       "      <th>Gate location</th>\n",
       "      <th>...</th>\n",
       "      <th>Inflight entertainment</th>\n",
       "      <th>On-board service</th>\n",
       "      <th>Leg room service</th>\n",
       "      <th>Baggage handling</th>\n",
       "      <th>Checkin service</th>\n",
       "      <th>Inflight service</th>\n",
       "      <th>Cleanliness</th>\n",
       "      <th>Departure Delay in Minutes</th>\n",
       "      <th>Arrival Delay in Minutes</th>\n",
       "      <th>satisfaction</th>\n",
       "    </tr>\n",
       "  </thead>\n",
       "  <tbody>\n",
       "    <tr>\n",
       "      <th>count</th>\n",
       "      <td>103904.000000</td>\n",
       "      <td>103904.000000</td>\n",
       "      <td>103904.000000</td>\n",
       "      <td>103904.000000</td>\n",
       "      <td>103904.000000</td>\n",
       "      <td>103904.000000</td>\n",
       "      <td>103904.000000</td>\n",
       "      <td>103904.000000</td>\n",
       "      <td>103904.000000</td>\n",
       "      <td>103904.000000</td>\n",
       "      <td>...</td>\n",
       "      <td>103904.000000</td>\n",
       "      <td>103904.000000</td>\n",
       "      <td>103904.000000</td>\n",
       "      <td>103904.000000</td>\n",
       "      <td>103904.000000</td>\n",
       "      <td>103904.000000</td>\n",
       "      <td>103904.000000</td>\n",
       "      <td>103904.000000</td>\n",
       "      <td>103904.000000</td>\n",
       "      <td>103904.000000</td>\n",
       "    </tr>\n",
       "    <tr>\n",
       "      <th>mean</th>\n",
       "      <td>0.492541</td>\n",
       "      <td>0.182678</td>\n",
       "      <td>32.379052</td>\n",
       "      <td>0.310373</td>\n",
       "      <td>0.594135</td>\n",
       "      <td>1186.133927</td>\n",
       "      <td>2.729683</td>\n",
       "      <td>3.060296</td>\n",
       "      <td>2.756901</td>\n",
       "      <td>2.976883</td>\n",
       "      <td>...</td>\n",
       "      <td>3.358158</td>\n",
       "      <td>3.382363</td>\n",
       "      <td>3.351055</td>\n",
       "      <td>2.631833</td>\n",
       "      <td>3.366333</td>\n",
       "      <td>3.640428</td>\n",
       "      <td>3.286351</td>\n",
       "      <td>7.396299</td>\n",
       "      <td>7.909493</td>\n",
       "      <td>0.433333</td>\n",
       "    </tr>\n",
       "    <tr>\n",
       "      <th>std</th>\n",
       "      <td>0.499947</td>\n",
       "      <td>0.386404</td>\n",
       "      <td>15.113075</td>\n",
       "      <td>0.462649</td>\n",
       "      <td>0.620799</td>\n",
       "      <td>988.126724</td>\n",
       "      <td>1.327829</td>\n",
       "      <td>1.525075</td>\n",
       "      <td>1.398929</td>\n",
       "      <td>1.277621</td>\n",
       "      <td>...</td>\n",
       "      <td>1.332991</td>\n",
       "      <td>1.288354</td>\n",
       "      <td>1.315605</td>\n",
       "      <td>1.180903</td>\n",
       "      <td>1.158642</td>\n",
       "      <td>1.175663</td>\n",
       "      <td>1.312273</td>\n",
       "      <td>11.223866</td>\n",
       "      <td>11.965566</td>\n",
       "      <td>0.495538</td>\n",
       "    </tr>\n",
       "    <tr>\n",
       "      <th>min</th>\n",
       "      <td>0.000000</td>\n",
       "      <td>0.000000</td>\n",
       "      <td>0.000000</td>\n",
       "      <td>0.000000</td>\n",
       "      <td>0.000000</td>\n",
       "      <td>31.000000</td>\n",
       "      <td>0.000000</td>\n",
       "      <td>0.000000</td>\n",
       "      <td>0.000000</td>\n",
       "      <td>0.000000</td>\n",
       "      <td>...</td>\n",
       "      <td>0.000000</td>\n",
       "      <td>0.000000</td>\n",
       "      <td>0.000000</td>\n",
       "      <td>0.000000</td>\n",
       "      <td>1.500000</td>\n",
       "      <td>0.000000</td>\n",
       "      <td>0.000000</td>\n",
       "      <td>0.000000</td>\n",
       "      <td>0.000000</td>\n",
       "      <td>0.000000</td>\n",
       "    </tr>\n",
       "    <tr>\n",
       "      <th>25%</th>\n",
       "      <td>0.000000</td>\n",
       "      <td>0.000000</td>\n",
       "      <td>20.000000</td>\n",
       "      <td>0.000000</td>\n",
       "      <td>0.000000</td>\n",
       "      <td>414.000000</td>\n",
       "      <td>2.000000</td>\n",
       "      <td>2.000000</td>\n",
       "      <td>2.000000</td>\n",
       "      <td>2.000000</td>\n",
       "      <td>...</td>\n",
       "      <td>2.000000</td>\n",
       "      <td>2.000000</td>\n",
       "      <td>2.000000</td>\n",
       "      <td>2.000000</td>\n",
       "      <td>3.000000</td>\n",
       "      <td>3.000000</td>\n",
       "      <td>2.000000</td>\n",
       "      <td>0.000000</td>\n",
       "      <td>0.000000</td>\n",
       "      <td>0.000000</td>\n",
       "    </tr>\n",
       "    <tr>\n",
       "      <th>50%</th>\n",
       "      <td>0.000000</td>\n",
       "      <td>0.000000</td>\n",
       "      <td>33.000000</td>\n",
       "      <td>0.000000</td>\n",
       "      <td>1.000000</td>\n",
       "      <td>843.000000</td>\n",
       "      <td>3.000000</td>\n",
       "      <td>3.000000</td>\n",
       "      <td>3.000000</td>\n",
       "      <td>3.000000</td>\n",
       "      <td>...</td>\n",
       "      <td>4.000000</td>\n",
       "      <td>4.000000</td>\n",
       "      <td>4.000000</td>\n",
       "      <td>3.000000</td>\n",
       "      <td>3.000000</td>\n",
       "      <td>4.000000</td>\n",
       "      <td>3.000000</td>\n",
       "      <td>0.000000</td>\n",
       "      <td>0.000000</td>\n",
       "      <td>0.000000</td>\n",
       "    </tr>\n",
       "    <tr>\n",
       "      <th>75%</th>\n",
       "      <td>1.000000</td>\n",
       "      <td>0.000000</td>\n",
       "      <td>44.000000</td>\n",
       "      <td>1.000000</td>\n",
       "      <td>1.000000</td>\n",
       "      <td>1743.000000</td>\n",
       "      <td>4.000000</td>\n",
       "      <td>4.000000</td>\n",
       "      <td>4.000000</td>\n",
       "      <td>4.000000</td>\n",
       "      <td>...</td>\n",
       "      <td>4.000000</td>\n",
       "      <td>4.000000</td>\n",
       "      <td>4.000000</td>\n",
       "      <td>4.000000</td>\n",
       "      <td>4.000000</td>\n",
       "      <td>5.000000</td>\n",
       "      <td>4.000000</td>\n",
       "      <td>12.000000</td>\n",
       "      <td>13.000000</td>\n",
       "      <td>1.000000</td>\n",
       "    </tr>\n",
       "    <tr>\n",
       "      <th>max</th>\n",
       "      <td>1.000000</td>\n",
       "      <td>1.000000</td>\n",
       "      <td>74.000000</td>\n",
       "      <td>1.000000</td>\n",
       "      <td>2.000000</td>\n",
       "      <td>3736.500000</td>\n",
       "      <td>5.000000</td>\n",
       "      <td>5.000000</td>\n",
       "      <td>5.000000</td>\n",
       "      <td>5.000000</td>\n",
       "      <td>...</td>\n",
       "      <td>5.000000</td>\n",
       "      <td>5.000000</td>\n",
       "      <td>5.000000</td>\n",
       "      <td>4.000000</td>\n",
       "      <td>5.000000</td>\n",
       "      <td>5.000000</td>\n",
       "      <td>5.000000</td>\n",
       "      <td>30.000000</td>\n",
       "      <td>32.500000</td>\n",
       "      <td>1.000000</td>\n",
       "    </tr>\n",
       "  </tbody>\n",
       "</table>\n",
       "<p>8 rows × 23 columns</p>\n",
       "</div>"
      ],
      "text/plain": [
       "              Gender  Customer Type            Age  Type of Travel  \\\n",
       "count  103904.000000  103904.000000  103904.000000   103904.000000   \n",
       "mean        0.492541       0.182678      32.379052        0.310373   \n",
       "std         0.499947       0.386404      15.113075        0.462649   \n",
       "min         0.000000       0.000000       0.000000        0.000000   \n",
       "25%         0.000000       0.000000      20.000000        0.000000   \n",
       "50%         0.000000       0.000000      33.000000        0.000000   \n",
       "75%         1.000000       0.000000      44.000000        1.000000   \n",
       "max         1.000000       1.000000      74.000000        1.000000   \n",
       "\n",
       "               Class  Flight Distance  Inflight wifi service  \\\n",
       "count  103904.000000    103904.000000          103904.000000   \n",
       "mean        0.594135      1186.133927               2.729683   \n",
       "std         0.620799       988.126724               1.327829   \n",
       "min         0.000000        31.000000               0.000000   \n",
       "25%         0.000000       414.000000               2.000000   \n",
       "50%         1.000000       843.000000               3.000000   \n",
       "75%         1.000000      1743.000000               4.000000   \n",
       "max         2.000000      3736.500000               5.000000   \n",
       "\n",
       "       Departure/Arrival time convenient  Ease of Online booking  \\\n",
       "count                      103904.000000           103904.000000   \n",
       "mean                            3.060296                2.756901   \n",
       "std                             1.525075                1.398929   \n",
       "min                             0.000000                0.000000   \n",
       "25%                             2.000000                2.000000   \n",
       "50%                             3.000000                3.000000   \n",
       "75%                             4.000000                4.000000   \n",
       "max                             5.000000                5.000000   \n",
       "\n",
       "       Gate location  ...  Inflight entertainment  On-board service  \\\n",
       "count  103904.000000  ...           103904.000000     103904.000000   \n",
       "mean        2.976883  ...                3.358158          3.382363   \n",
       "std         1.277621  ...                1.332991          1.288354   \n",
       "min         0.000000  ...                0.000000          0.000000   \n",
       "25%         2.000000  ...                2.000000          2.000000   \n",
       "50%         3.000000  ...                4.000000          4.000000   \n",
       "75%         4.000000  ...                4.000000          4.000000   \n",
       "max         5.000000  ...                5.000000          5.000000   \n",
       "\n",
       "       Leg room service  Baggage handling  Checkin service  Inflight service  \\\n",
       "count     103904.000000     103904.000000    103904.000000     103904.000000   \n",
       "mean           3.351055          2.631833         3.366333          3.640428   \n",
       "std            1.315605          1.180903         1.158642          1.175663   \n",
       "min            0.000000          0.000000         1.500000          0.000000   \n",
       "25%            2.000000          2.000000         3.000000          3.000000   \n",
       "50%            4.000000          3.000000         3.000000          4.000000   \n",
       "75%            4.000000          4.000000         4.000000          5.000000   \n",
       "max            5.000000          4.000000         5.000000          5.000000   \n",
       "\n",
       "         Cleanliness  Departure Delay in Minutes  Arrival Delay in Minutes  \\\n",
       "count  103904.000000               103904.000000             103904.000000   \n",
       "mean        3.286351                    7.396299                  7.909493   \n",
       "std         1.312273                   11.223866                 11.965566   \n",
       "min         0.000000                    0.000000                  0.000000   \n",
       "25%         2.000000                    0.000000                  0.000000   \n",
       "50%         3.000000                    0.000000                  0.000000   \n",
       "75%         4.000000                   12.000000                 13.000000   \n",
       "max         5.000000                   30.000000                 32.500000   \n",
       "\n",
       "        satisfaction  \n",
       "count  103904.000000  \n",
       "mean        0.433333  \n",
       "std         0.495538  \n",
       "min         0.000000  \n",
       "25%         0.000000  \n",
       "50%         0.000000  \n",
       "75%         1.000000  \n",
       "max         1.000000  \n",
       "\n",
       "[8 rows x 23 columns]"
      ]
     },
     "execution_count": 27,
     "metadata": {},
     "output_type": "execute_result"
    }
   ],
   "source": [
    "print('\\nDataset Setelah Encoding, adalah:')\n",
    "airline.describe()"
   ]
  },
  {
   "cell_type": "code",
   "execution_count": 28,
   "metadata": {
    "colab": {
     "base_uri": "https://localhost:8080/"
    },
    "id": "Fj6Iy7uXnZNh",
    "outputId": "24f49b8c-9b7d-427f-83e3-7109a666169d"
   },
   "outputs": [
    {
     "name": "stdout",
     "output_type": "stream",
     "text": [
      "<class 'pandas.core.frame.DataFrame'>\n",
      "RangeIndex: 103904 entries, 0 to 103903\n",
      "Data columns (total 23 columns):\n",
      " #   Column                             Non-Null Count   Dtype  \n",
      "---  ------                             --------------   -----  \n",
      " 0   Gender                             103904 non-null  int32  \n",
      " 1   Customer Type                      103904 non-null  int32  \n",
      " 2   Age                                103904 non-null  int64  \n",
      " 3   Type of Travel                     103904 non-null  int32  \n",
      " 4   Class                              103904 non-null  int32  \n",
      " 5   Flight Distance                    103904 non-null  float64\n",
      " 6   Inflight wifi service              103904 non-null  int64  \n",
      " 7   Departure/Arrival time convenient  103904 non-null  int64  \n",
      " 8   Ease of Online booking             103904 non-null  int64  \n",
      " 9   Gate location                      103904 non-null  int64  \n",
      " 10  Food and drink                     103904 non-null  int64  \n",
      " 11  Online boarding                    103904 non-null  int64  \n",
      " 12  Seat comfort                       103904 non-null  int64  \n",
      " 13  Inflight entertainment             103904 non-null  int64  \n",
      " 14  On-board service                   103904 non-null  int64  \n",
      " 15  Leg room service                   103904 non-null  int64  \n",
      " 16  Baggage handling                   103904 non-null  int64  \n",
      " 17  Checkin service                    103904 non-null  float64\n",
      " 18  Inflight service                   103904 non-null  int64  \n",
      " 19  Cleanliness                        103904 non-null  int64  \n",
      " 20  Departure Delay in Minutes         103904 non-null  int64  \n",
      " 21  Arrival Delay in Minutes           103904 non-null  float64\n",
      " 22  satisfaction                       103904 non-null  int32  \n",
      "dtypes: float64(3), int32(5), int64(15)\n",
      "memory usage: 16.3 MB\n"
     ]
    }
   ],
   "source": [
    "airline.info()"
   ]
  },
  {
   "cell_type": "markdown",
   "metadata": {
    "id": "PyChyao6c_NT"
   },
   "source": [
    "#### **Splitting Data**\n",
    "Membagi data set menjadi dua bagian yaitu 80% training dan 20% testing."
   ]
  },
  {
   "cell_type": "code",
   "execution_count": 29,
   "metadata": {
    "id": "NR7Xt2S21hdP"
   },
   "outputs": [],
   "source": [
    "# Mendefinisikan Variabel Independen (x) dan Variabel Dependen (y)\n",
    "x = airline.drop('satisfaction', axis=1)\n",
    "y = airline['satisfaction']"
   ]
  },
  {
   "cell_type": "code",
   "execution_count": 30,
   "metadata": {
    "colab": {
     "base_uri": "https://localhost:8080/"
    },
    "id": "f-QRWr5S1VGL",
    "outputId": "29a90746-e5e5-4fd1-83fe-d5d620d28d68"
   },
   "outputs": [
    {
     "name": "stdout",
     "output_type": "stream",
     "text": [
      "(83123, 22) (20781, 22)\n"
     ]
    }
   ],
   "source": [
    "# Membagi Dataset\n",
    "from sklearn.model_selection import train_test_split\n",
    "\n",
    "X_train, X_test, y_train, y_test = train_test_split(x,y, test_size=0.2, random_state=42)\n",
    "print(X_train.shape, X_test.shape)"
   ]
  },
  {
   "cell_type": "markdown",
   "metadata": {
    "id": "lnJyJXGXYu4j"
   },
   "source": [
    "#### **Model Building**\n",
    "\n",
    "Berikut adalah beberapa model yang akan kami coba untuk kemudian menentukan model terbaik:\n",
    "* Regresi Logistik\n",
    "* Gaussian Naive Bayes\n",
    "* KNN Classifier\n",
    "* Decision Tree\n",
    "* Random Forest"
   ]
  },
  {
   "cell_type": "markdown",
   "metadata": {
    "id": "J7CrMBPQd8xF"
   },
   "source": [
    "##### 1. ***Logistic Regression***"
   ]
  },
  {
   "cell_type": "markdown",
   "metadata": {},
   "source": [
    "###### - ***Train the Model***"
   ]
  },
  {
   "cell_type": "code",
   "execution_count": 81,
   "metadata": {
    "colab": {
     "base_uri": "https://localhost:8080/"
    },
    "id": "phYBBUdz2ckG",
    "outputId": "554cb8fe-1af4-43ee-f124-c91cceb91a09"
   },
   "outputs": [
    {
     "name": "stdout",
     "output_type": "stream",
     "text": [
      "LogisticRegression()\n"
     ]
    },
    {
     "name": "stderr",
     "output_type": "stream",
     "text": [
      "C:\\Users\\Fitria D. Wulandari\\anaconda3\\lib\\site-packages\\sklearn\\linear_model\\_logistic.py:762: ConvergenceWarning: lbfgs failed to converge (status=1):\n",
      "STOP: TOTAL NO. of ITERATIONS REACHED LIMIT.\n",
      "\n",
      "Increase the number of iterations (max_iter) or scale the data as shown in:\n",
      "    https://scikit-learn.org/stable/modules/preprocessing.html\n",
      "Please also refer to the documentation for alternative solver options:\n",
      "    https://scikit-learn.org/stable/modules/linear_model.html#logistic-regression\n",
      "  n_iter_i = _check_optimize_result(\n"
     ]
    }
   ],
   "source": [
    "from sklearn.linear_model import LogisticRegression\n",
    "\n",
    "# Train the Model\n",
    "log_model = LogisticRegression().fit(X_train, y_train)\n",
    "print(log_model)"
   ]
  },
  {
   "cell_type": "markdown",
   "metadata": {},
   "source": [
    "###### - ***Predicting Data Train and Test***"
   ]
  },
  {
   "cell_type": "code",
   "execution_count": 82,
   "metadata": {},
   "outputs": [],
   "source": [
    "from sklearn.metrics import confusion_matrix, classification_report"
   ]
  },
  {
   "cell_type": "code",
   "execution_count": 83,
   "metadata": {},
   "outputs": [
    {
     "name": "stdout",
     "output_type": "stream",
     "text": [
      "Classification Report Training Model (Logistic Regression):\n",
      "              precision    recall  f1-score   support\n",
      "\n",
      "           0       0.85      0.81      0.83     47166\n",
      "           1       0.76      0.81      0.78     35957\n",
      "\n",
      "    accuracy                           0.81     83123\n",
      "   macro avg       0.80      0.81      0.81     83123\n",
      "weighted avg       0.81      0.81      0.81     83123\n",
      "\n"
     ]
    }
   ],
   "source": [
    "# Predict Data Train\n",
    "y_train_pred_log = log_model.predict(X_train)\n",
    "\n",
    "# Print Classification Report\n",
    "print('Classification Report Training Model (Logistic Regression):')\n",
    "print(classification_report(y_train, y_train_pred_log))"
   ]
  },
  {
   "cell_type": "code",
   "execution_count": 84,
   "metadata": {
    "colab": {
     "base_uri": "https://localhost:8080/"
    },
    "id": "y7QIiLak2qU5",
    "outputId": "96007f46-b98c-400b-87e1-cd2ff34a0b31"
   },
   "outputs": [
    {
     "name": "stdout",
     "output_type": "stream",
     "text": [
      "Classification Report Testing Model (Logistic Regression):\n",
      "              precision    recall  f1-score   support\n",
      "\n",
      "           0       0.85      0.81      0.83     11713\n",
      "           1       0.77      0.81      0.79      9068\n",
      "\n",
      "    accuracy                           0.81     20781\n",
      "   macro avg       0.81      0.81      0.81     20781\n",
      "weighted avg       0.81      0.81      0.81     20781\n",
      "\n"
     ]
    }
   ],
   "source": [
    "# Predict Data Test\n",
    "y_test_pred_log = log_model.predict(X_test)\n",
    "\n",
    "# Print Classification Report\n",
    "print('Classification Report Testing Model (Logistic Regression):')\n",
    "print(classification_report(y_test, y_test_pred_log))"
   ]
  },
  {
   "cell_type": "code",
   "execution_count": 85,
   "metadata": {},
   "outputs": [
    {
     "name": "stdout",
     "output_type": "stream",
     "text": [
      "ROC AUC: 0.8101757541443607\n"
     ]
    }
   ],
   "source": [
    "roc_auc_log = roc_auc_score(y_test, y_test_pred_log)\n",
    "print('ROC AUC:', roc_auc_log)"
   ]
  },
  {
   "cell_type": "markdown",
   "metadata": {},
   "source": [
    "###### - ***Confusion Matrix***"
   ]
  },
  {
   "cell_type": "code",
   "execution_count": 35,
   "metadata": {
    "colab": {
     "base_uri": "https://localhost:8080/",
     "height": 350
    },
    "id": "jXa5mZTD2qe5",
    "outputId": "7d3de7c0-71f9-4106-8aec-11b11b16e4f3"
   },
   "outputs": [
    {
     "data": {
      "image/png": "[encoded data removed]",
      "text/plain": [
       "<Figure size 432x288 with 2 Axes>"
      ]
     },
     "metadata": {},
     "output_type": "display_data"
    }
   ],
   "source": [
    "# Form Confusion Matrix as a DataFrame\n",
    "confusion_matrix_log = pd.DataFrame((confusion_matrix(y_test, y_test_pred_log)), ('Neutral/Dissatisfied', 'Satisfied'), ('Neutral/Dissatisfied', 'Satisfied'))\n",
    "\n",
    "# Plot Confusion Matrix\n",
    "plt.figure()\n",
    "heatmap = sns.heatmap(confusion_matrix_log, annot=True, annot_kws={'size': 14}, fmt='d', cmap='copper_r')\n",
    "heatmap.yaxis.set_ticklabels(heatmap.yaxis.get_ticklabels(), rotation=0, ha='right', fontsize=14)\n",
    "heatmap.xaxis.set_ticklabels(heatmap.xaxis.get_ticklabels(), rotation=0, ha='right', fontsize=14)\n",
    "\n",
    "plt.title('Confusion Matrix for Testing Model\\n(Logistic Regression)\\n', fontsize=18, color='saddlebrown')\n",
    "plt.ylabel('True label', fontsize=14)\n",
    "plt.xlabel('Predicted label', fontsize=14)\n",
    "plt.show()"
   ]
  },
  {
   "cell_type": "markdown",
   "metadata": {
    "id": "bVICvQFarYu5"
   },
   "source": [
    "##### 2. **Gaussian Naive Bayes**"
   ]
  },
  {
   "cell_type": "markdown",
   "metadata": {},
   "source": [
    "###### - ***Train the Model***"
   ]
  },
  {
   "cell_type": "code",
   "execution_count": 86,
   "metadata": {
    "colab": {
     "base_uri": "https://localhost:8080/"
    },
    "id": "HZAMvIJRvNYQ",
    "outputId": "1954f484-e656-46ca-aadd-ea56923777f5"
   },
   "outputs": [
    {
     "name": "stdout",
     "output_type": "stream",
     "text": [
      "GaussianNB()\n"
     ]
    }
   ],
   "source": [
    "from sklearn.naive_bayes import GaussianNB\n",
    "\n",
    "# Train the Model\n",
    "gnb_model = GaussianNB().fit(X_train,y_train)\n",
    "print(gnb_model)"
   ]
  },
  {
   "cell_type": "markdown",
   "metadata": {},
   "source": [
    "###### - ***Predict Data Train and Data Test***"
   ]
  },
  {
   "cell_type": "code",
   "execution_count": 87,
   "metadata": {},
   "outputs": [
    {
     "name": "stdout",
     "output_type": "stream",
     "text": [
      "Classification Report Training Model (Gaussian Naive Bayes):\n",
      "              precision    recall  f1-score   support\n",
      "\n",
      "           0       0.87      0.90      0.89     47166\n",
      "           1       0.87      0.82      0.84     35957\n",
      "\n",
      "    accuracy                           0.87     83123\n",
      "   macro avg       0.87      0.86      0.86     83123\n",
      "weighted avg       0.87      0.87      0.87     83123\n",
      "\n"
     ]
    }
   ],
   "source": [
    "# Predict Data Train\n",
    "y_train_pred_gnb = gnb_model.predict(X_train)\n",
    "\n",
    "# Print Classification Report\n",
    "print('Classification Report Training Model (Gaussian Naive Bayes):')\n",
    "print(classification_report(y_train, y_train_pred_gnb))"
   ]
  },
  {
   "cell_type": "code",
   "execution_count": 88,
   "metadata": {
    "colab": {
     "base_uri": "https://localhost:8080/"
    },
    "id": "BqrQRTq_vds8",
    "outputId": "ea24a529-f7d5-4688-c5cc-489701fbb542"
   },
   "outputs": [
    {
     "name": "stdout",
     "output_type": "stream",
     "text": [
      "Classification Report Testing Model (Gaussian Naive Bayes):\n",
      "              precision    recall  f1-score   support\n",
      "\n",
      "           0       0.87      0.90      0.89     11713\n",
      "           1       0.87      0.82      0.85      9068\n",
      "\n",
      "    accuracy                           0.87     20781\n",
      "   macro avg       0.87      0.86      0.87     20781\n",
      "weighted avg       0.87      0.87      0.87     20781\n",
      "\n"
     ]
    }
   ],
   "source": [
    "# Predict Data Test\n",
    "y_test_pred_gnb = gnb_model.predict(X_test)\n",
    "\n",
    "# Print Classification Report\n",
    "print('Classification Report Testing Model (Gaussian Naive Bayes):')\n",
    "print(classification_report(y_test, y_test_pred_gnb))"
   ]
  },
  {
   "cell_type": "code",
   "execution_count": 61,
   "metadata": {},
   "outputs": [
    {
     "name": "stdout",
     "output_type": "stream",
     "text": [
      "ROC AUC: 0.8641329711018613\n"
     ]
    }
   ],
   "source": [
    "roc_auc_gnb = roc_auc_score(y_test, y_test_pred_gnb)\n",
    "print('ROC AUC:', roc_auc_gnb)"
   ]
  },
  {
   "cell_type": "markdown",
   "metadata": {},
   "source": [
    "###### - ***Confusion Matrix***"
   ]
  },
  {
   "cell_type": "code",
   "execution_count": 39,
   "metadata": {
    "colab": {
     "base_uri": "https://localhost:8080/",
     "height": 350
    },
    "id": "VxkM_Ynyvdy2",
    "outputId": "1823fad9-70e4-45b7-b87c-c1b0e5188ad9"
   },
   "outputs": [
    {
     "data": {
      "image/png": "[encoded data removed]",
      "text/plain": [
       "<Figure size 432x288 with 2 Axes>"
      ]
     },
     "metadata": {},
     "output_type": "display_data"
    }
   ],
   "source": [
    "# Form Confusion Matrix as a DataFrame\n",
    "confusion_matrix_gnb = pd.DataFrame((confusion_matrix(y_test, y_test_pred_gnb)), ('Neutral/Dissatisfied', 'Satisfied'), ('Neutral/Dissatisfied', 'Satisfied'))\n",
    "\n",
    "# Plot Confusion Matrix\n",
    "plt.figure()\n",
    "heatmap = sns.heatmap(confusion_matrix_gnb, annot=True, annot_kws={'size': 14}, fmt='d', cmap='pink')\n",
    "heatmap.yaxis.set_ticklabels(heatmap.yaxis.get_ticklabels(), rotation=0, ha='right', fontsize=14)\n",
    "heatmap.xaxis.set_ticklabels(heatmap.xaxis.get_ticklabels(), rotation=0, ha='right', fontsize=14)\n",
    "\n",
    "plt.title('Confusion Matrix for Testing Model\\n(Gaussian Naive Bayes)\\n', fontsize=18, color='sienna')\n",
    "plt.ylabel('True label', fontsize=14)\n",
    "plt.xlabel('Predicted label', fontsize=14)\n",
    "plt.show()"
   ]
  },
  {
   "cell_type": "markdown",
   "metadata": {
    "id": "kaDACTUywKH0"
   },
   "source": [
    "##### 3. ***K-Nearest Neighbor Classifier***"
   ]
  },
  {
   "cell_type": "markdown",
   "metadata": {},
   "source": [
    "###### - ***Train the Model***"
   ]
  },
  {
   "cell_type": "code",
   "execution_count": 89,
   "metadata": {
    "colab": {
     "base_uri": "https://localhost:8080/"
    },
    "id": "hc8TZaXNwKRn",
    "outputId": "c5c26207-33de-4204-d6a0-8e695b1bb23c"
   },
   "outputs": [
    {
     "name": "stdout",
     "output_type": "stream",
     "text": [
      "KNeighborsClassifier()\n"
     ]
    }
   ],
   "source": [
    "from sklearn.neighbors import KNeighborsClassifier\n",
    "\n",
    "# Train the Model\n",
    "knn_model = KNeighborsClassifier().fit(X_train,y_train)\n",
    "print(knn_model)"
   ]
  },
  {
   "cell_type": "markdown",
   "metadata": {},
   "source": [
    "###### - ***Predict Data Train and Data Test***"
   ]
  },
  {
   "cell_type": "code",
   "execution_count": 90,
   "metadata": {},
   "outputs": [
    {
     "name": "stdout",
     "output_type": "stream",
     "text": [
      "Classification Report Training Model (K-Neighbors Classifier):\n",
      "              precision    recall  f1-score   support\n",
      "\n",
      "           0       0.84      0.89      0.86     47166\n",
      "           1       0.84      0.78      0.81     35957\n",
      "\n",
      "    accuracy                           0.84     83123\n",
      "   macro avg       0.84      0.83      0.84     83123\n",
      "weighted avg       0.84      0.84      0.84     83123\n",
      "\n"
     ]
    }
   ],
   "source": [
    "# Predict Data Train\n",
    "y_train_pred_knn = knn_model.predict(X_train)\n",
    "\n",
    "# Print Classification Report\n",
    "print('Classification Report Training Model (K-Neighbors Classifier):')\n",
    "print(classification_report(y_train, y_train_pred_knn))"
   ]
  },
  {
   "cell_type": "code",
   "execution_count": 91,
   "metadata": {
    "colab": {
     "base_uri": "https://localhost:8080/"
    },
    "id": "bl6Dqf72wKVj",
    "outputId": "f110c830-34d0-4bb1-c0c1-f35577c73603"
   },
   "outputs": [
    {
     "name": "stdout",
     "output_type": "stream",
     "text": [
      "Classification Report Testing Model (K-Neighbors Classifier):\n",
      "              precision    recall  f1-score   support\n",
      "\n",
      "           0       0.77      0.82      0.80     11713\n",
      "           1       0.75      0.68      0.72      9068\n",
      "\n",
      "    accuracy                           0.76     20781\n",
      "   macro avg       0.76      0.75      0.76     20781\n",
      "weighted avg       0.76      0.76      0.76     20781\n",
      "\n"
     ]
    }
   ],
   "source": [
    "# Predict Data Test\n",
    "y_test_pred_knn = knn_model.predict(X_test)\n",
    "\n",
    "# Print Classification Report\n",
    "print('Classification Report Testing Model (K-Neighbors Classifier):')\n",
    "print(classification_report(y_test, y_test_pred_knn))"
   ]
  },
  {
   "cell_type": "code",
   "execution_count": 65,
   "metadata": {},
   "outputs": [
    {
     "name": "stdout",
     "output_type": "stream",
     "text": [
      "ROC AUC: 0.7533398348932797\n"
     ]
    }
   ],
   "source": [
    "roc_auc_knn = roc_auc_score(y_test, y_test_pred_knn)\n",
    "print('ROC AUC:', roc_auc_knn)"
   ]
  },
  {
   "cell_type": "markdown",
   "metadata": {},
   "source": [
    "###### - ***Confusion Matrix***"
   ]
  },
  {
   "cell_type": "code",
   "execution_count": 43,
   "metadata": {
    "colab": {
     "base_uri": "https://localhost:8080/",
     "height": 350
    },
    "id": "KPd45U70wKZ5",
    "outputId": "d45606d7-8024-493a-8ca2-69b059f48eca"
   },
   "outputs": [
    {
     "data": {
      "image/png": "[encoded data removed]",
      "text/plain": [
       "<Figure size 432x288 with 2 Axes>"
      ]
     },
     "metadata": {},
     "output_type": "display_data"
    }
   ],
   "source": [
    "# Form Confusion Matrix as a DataFrame\n",
    "confusion_matrix_knn = pd.DataFrame((confusion_matrix(y_test, y_test_pred_knn)), ('Neutral/Dissatisfied', 'Satisfied'), ('Neutral/Dissatisfied', 'Satisfied'))\n",
    "\n",
    "# Plot Confusion Matrix\n",
    "plt.figure()\n",
    "heatmap = sns.heatmap(confusion_matrix_knn, annot=True, annot_kws={'size': 14}, fmt='d', cmap='PuBuGn_r')\n",
    "heatmap.yaxis.set_ticklabels(heatmap.yaxis.get_ticklabels(), rotation=0, ha='right', fontsize=14)\n",
    "heatmap.xaxis.set_ticklabels(heatmap.xaxis.get_ticklabels(), rotation=0, ha='right', fontsize=14)\n",
    "\n",
    "plt.title('Confusion Matrix for Testing Model\\n(KNeighborsClassifier)\\n', fontsize=18, color='darkolivegreen')\n",
    "plt.ylabel('True label', fontsize=14)\n",
    "plt.xlabel('Predicted label', fontsize=14)\n",
    "plt.show()"
   ]
  },
  {
   "cell_type": "markdown",
   "metadata": {
    "id": "LRP0R5Sxy44d"
   },
   "source": [
    "##### 4. ***Decision Tree Classifier* (Model Terpilih ✓)**"
   ]
  },
  {
   "cell_type": "markdown",
   "metadata": {
    "id": "ZfmcDoM1qe7r"
   },
   "source": [
    "Model `decision tree` menjadi model terpilih karena model ini menghasilkan nilai presisi tertinggi kedua setelah model `random forest` dan dapat memberikan interpretasi yang insightful. \n",
    "\n",
    "Mengapa kami tidak memilih model `random forest` ? alasannya, karena model ini menghasilkan `tree` yang sangat kompleks sehingga sulit untuk diiinterpretasikan, sedangkan perbedaan nilai presisi yang dihasilkan pun  tidak memiliki selisih yang signifikan."
   ]
  },
  {
   "cell_type": "markdown",
   "metadata": {
    "id": "ShTnSJNONDkq"
   },
   "source": [
    "###### - ***Tuning Hyperparameter***"
   ]
  },
  {
   "cell_type": "code",
   "execution_count": 66,
   "metadata": {
    "id": "Thv80N6tT9OS"
   },
   "outputs": [],
   "source": [
    "from sklearn import tree\n",
    "from sklearn.tree import DecisionTreeClassifier "
   ]
  },
  {
   "cell_type": "code",
   "execution_count": 67,
   "metadata": {
    "colab": {
     "base_uri": "https://localhost:8080/"
    },
    "id": "Qgj4MOLfNHFg",
    "outputId": "31db57f9-2e22-4bc3-81ad-6dfcde759391"
   },
   "outputs": [
    {
     "name": "stdout",
     "output_type": "stream",
     "text": [
      "RandomizedSearchCV(cv=10, estimator=DecisionTreeClassifier(),\n",
      "                   param_distributions={'max_depth': array([3, 4, 5, 6, 7, 8, 9]),\n",
      "                                        'min_samples_leaf': array([1, 2, 3, 4, 5, 6, 7, 8, 9]),\n",
      "                                        'min_samples_split': array([2, 3, 4, 5, 6, 7, 8, 9])},\n",
      "                   random_state=0, scoring='roc_auc')\n"
     ]
    }
   ],
   "source": [
    "from sklearn.model_selection import RandomizedSearchCV\n",
    "from sklearn.metrics import roc_auc_score\n",
    "param_grid = {'max_depth' : np.arange(3,10),\n",
    "              'min_samples_split' : np.arange(2,10),\n",
    "              'min_samples_leaf' : np.arange(1,10)}\n",
    "\n",
    "# Create a Randomized Search CV object\n",
    "dt = DecisionTreeClassifier()\n",
    "random_grid_dt = RandomizedSearchCV(\n",
    "    estimator = dt,\n",
    "    param_distributions = param_grid,\n",
    "    scoring = 'roc_auc',\n",
    "    random_state=0,\n",
    "    cv = 10)\n",
    "print(random_grid_dt)"
   ]
  },
  {
   "cell_type": "code",
   "execution_count": 68,
   "metadata": {
    "colab": {
     "base_uri": "https://localhost:8080/"
    },
    "id": "9vCDZxOEUAZ5",
    "outputId": "b6dddbaa-a1b0-4cc5-9522-f5ef6b49a076"
   },
   "outputs": [
    {
     "data": {
      "text/plain": [
       "RandomizedSearchCV(cv=10, estimator=DecisionTreeClassifier(),\n",
       "                   param_distributions={'max_depth': array([3, 4, 5, 6, 7, 8, 9]),\n",
       "                                        'min_samples_leaf': array([1, 2, 3, 4, 5, 6, 7, 8, 9]),\n",
       "                                        'min_samples_split': array([2, 3, 4, 5, 6, 7, 8, 9])},\n",
       "                   random_state=0, scoring='roc_auc')"
      ]
     },
     "execution_count": 68,
     "metadata": {},
     "output_type": "execute_result"
    }
   ],
   "source": [
    "random_grid_dt.fit(X_train,y_train)"
   ]
  },
  {
   "cell_type": "code",
   "execution_count": 69,
   "metadata": {
    "colab": {
     "base_uri": "https://localhost:8080/"
    },
    "id": "GBdJWx4SWBoL",
    "outputId": "3b219403-bd54-4c5c-de56-3e23e34fb8c5"
   },
   "outputs": [
    {
     "data": {
      "text/plain": [
       "{'min_samples_split': 6, 'min_samples_leaf': 6, 'max_depth': 9}"
      ]
     },
     "execution_count": 69,
     "metadata": {},
     "output_type": "execute_result"
    }
   ],
   "source": [
    "random_grid_dt.best_params_"
   ]
  },
  {
   "cell_type": "code",
   "execution_count": 70,
   "metadata": {
    "colab": {
     "base_uri": "https://localhost:8080/"
    },
    "id": "6p23YI_oWKNu",
    "outputId": "b66680a6-0d78-4d7c-e5ab-81c4db60c805"
   },
   "outputs": [
    {
     "data": {
      "text/plain": [
       "0.9855872943861514"
      ]
     },
     "execution_count": 70,
     "metadata": {},
     "output_type": "execute_result"
    }
   ],
   "source": [
    "random_grid_dt.best_score_"
   ]
  },
  {
   "cell_type": "markdown",
   "metadata": {
    "id": "e3Ix9PtEltl7"
   },
   "source": [
    "###### - ***Train the Model***"
   ]
  },
  {
   "cell_type": "code",
   "execution_count": 71,
   "metadata": {
    "colab": {
     "base_uri": "https://localhost:8080/"
    },
    "id": "jDEU5su3y5Cs",
    "outputId": "8be86ecd-5f53-47ad-c699-cc16a722a284"
   },
   "outputs": [
    {
     "name": "stdout",
     "output_type": "stream",
     "text": [
      "DecisionTreeClassifier(max_depth=9, min_samples_leaf=6, min_samples_split=6)\n"
     ]
    }
   ],
   "source": [
    "# Train the Model\n",
    "dt_model = DecisionTreeClassifier(max_depth=9,min_samples_leaf=6,min_samples_split=6).fit(X_train,y_train)\n",
    "print(dt_model)"
   ]
  },
  {
   "cell_type": "markdown",
   "metadata": {
    "id": "Sgt8dPdPscRP"
   },
   "source": [
    "###### - ***Predict Data Train and Test***"
   ]
  },
  {
   "cell_type": "code",
   "execution_count": 72,
   "metadata": {
    "colab": {
     "base_uri": "https://localhost:8080/"
    },
    "id": "GOLvm7CBOSB_",
    "outputId": "7b0597a4-1a9d-41cf-837d-792829e7130b"
   },
   "outputs": [
    {
     "name": "stdout",
     "output_type": "stream",
     "text": [
      "Classification Report Training Model (Decision Tree Classifier):\n",
      "              precision    recall  f1-score   support\n",
      "\n",
      "           0       0.94      0.96      0.95     47166\n",
      "           1       0.95      0.92      0.93     35957\n",
      "\n",
      "    accuracy                           0.94     83123\n",
      "   macro avg       0.94      0.94      0.94     83123\n",
      "weighted avg       0.94      0.94      0.94     83123\n",
      "\n"
     ]
    }
   ],
   "source": [
    "# Predict Data Train\n",
    "y_train_pred_dt = dt_model.predict(X_train)\n",
    "\n",
    "# Print Classification Report\n",
    "print('Classification Report Training Model (Decision Tree Classifier):')\n",
    "print(classification_report(y_train, y_train_pred_dt))"
   ]
  },
  {
   "cell_type": "code",
   "execution_count": 73,
   "metadata": {
    "colab": {
     "base_uri": "https://localhost:8080/"
    },
    "id": "NvdaZTxMy5Hr",
    "outputId": "51290257-504d-4bb3-f77b-183223f5526e"
   },
   "outputs": [
    {
     "name": "stdout",
     "output_type": "stream",
     "text": [
      "Classification Report Testing Model (Decision Tree Classifier):\n",
      "              precision    recall  f1-score   support\n",
      "\n",
      "           0       0.94      0.96      0.95     11713\n",
      "           1       0.94      0.92      0.93      9068\n",
      "\n",
      "    accuracy                           0.94     20781\n",
      "   macro avg       0.94      0.94      0.94     20781\n",
      "weighted avg       0.94      0.94      0.94     20781\n",
      "\n"
     ]
    }
   ],
   "source": [
    "# Predict Data Test\n",
    "y_test_pred_dt = dt_model.predict(X_test)\n",
    "\n",
    "from sklearn.metrics import confusion_matrix, classification_report\n",
    "# Print Classification Report\n",
    "print('Classification Report Testing Model (Decision Tree Classifier):')\n",
    "print(classification_report(y_test, y_test_pred_dt))"
   ]
  },
  {
   "cell_type": "markdown",
   "metadata": {
    "id": "0xTvWMnMO5MZ"
   },
   "source": [
    "Karena precision dari prediksi `data test` dan `data train` memiliki nilai yang sama, yaitu sebesar **0.94** maka dapat dikatakan bahwa model sudah sangat baik dan tidak terjadi *underfitting* maupun *overfitting*."
   ]
  },
  {
   "cell_type": "code",
   "execution_count": 74,
   "metadata": {},
   "outputs": [
    {
     "name": "stdout",
     "output_type": "stream",
     "text": [
      "ROC AUC: 0.9368181821434273\n"
     ]
    }
   ],
   "source": [
    "roc_auc_dt = roc_auc_score(y_test, y_test_pred_dt)\n",
    "print('ROC AUC:', roc_auc_dt)"
   ]
  },
  {
   "cell_type": "markdown",
   "metadata": {
    "id": "aXrhrDstl24J"
   },
   "source": [
    "###### - ***Confusion Matrix***"
   ]
  },
  {
   "cell_type": "code",
   "execution_count": 52,
   "metadata": {
    "colab": {
     "base_uri": "https://localhost:8080/",
     "height": 350
    },
    "id": "7uCj-Dfhy5OZ",
    "outputId": "436c446d-0337-4600-8a72-14e9abb22a8d"
   },
   "outputs": [
    {
     "data": {
      "image/png": "[encoded data removed]",
      "text/plain": [
       "<Figure size 432x288 with 2 Axes>"
      ]
     },
     "metadata": {},
     "output_type": "display_data"
    }
   ],
   "source": [
    "# Form Confusion Matrix as a DataFrame\n",
    "confusion_matrix_dt = pd.DataFrame((confusion_matrix(y_test, y_test_pred_dt)), ('Neutral/Dissatisfied', 'Satisfied'), ('Neutral/Dissatisfied', 'Satisfied'))\n",
    "\n",
    "# Plot Confusion Matrix\n",
    "plt.figure()\n",
    "heatmap = sns.heatmap(confusion_matrix_dt, annot=True, annot_kws={'size': 14}, fmt='d', cmap='bone_r')\n",
    "heatmap.yaxis.set_ticklabels(heatmap.yaxis.get_ticklabels(), rotation=0, ha='right', fontsize=14)\n",
    "heatmap.xaxis.set_ticklabels(heatmap.xaxis.get_ticklabels(), rotation=0, ha='right', fontsize=14)\n",
    "\n",
    "plt.title('Confusion Matrix for Testing Model\\n(Decision Tree Classifier)\\n', fontsize=18, color='darkslategrey')\n",
    "plt.ylabel('True label', fontsize=14)\n",
    "plt.xlabel('Predicted label', fontsize=14)\n",
    "plt.show()"
   ]
  },
  {
   "cell_type": "markdown",
   "metadata": {
    "id": "52MY6r4DZexs"
   },
   "source": [
    "Keterangan:\n",
    "- 11212 True Positive (ketika memprediksi neutral/dissatisfied, dan benar)\n",
    "- 8310 True Negative (ketika memprediksi satisfied, dan benar)\n",
    "- 758 False Positive (ketika memprediksi neutral/dissatisfied, dan salah)\n",
    "- 501 False Negative (ketika memprediksi satisfied, dan salah)"
   ]
  },
  {
   "cell_type": "markdown",
   "metadata": {
    "id": "OhuwQNW8l9M0"
   },
   "source": [
    "###### - ***Decision Tree Graph***"
   ]
  },
  {
   "cell_type": "markdown",
   "metadata": {},
   "source": [
    "**I run graphviz on google colab, because i can't run it on jupyter notebook.**"
   ]
  },
  {
   "cell_type": "code",
   "execution_count": 53,
   "metadata": {},
   "outputs": [
    {
     "name": "stdout",
     "output_type": "stream",
     "text": [
      "Requirement already satisfied: graphviz in c:\\users\\fitria d. wulandari\\anaconda3\\lib\\site-packages (0.16)\n"
     ]
    }
   ],
   "source": [
    "!pip install graphviz"
   ]
  },
  {
   "cell_type": "code",
   "execution_count": 54,
   "metadata": {
    "colab": {
     "background_save": true,
     "base_uri": "https://localhost:8080/",
     "height": 1000
    },
    "id": "uUISW4gmUsTD",
    "outputId": "30836711-f18b-4076-f930-44a26ae32301"
   },
   "outputs": [
    {
     "ename": "ExecutableNotFound",
     "evalue": "failed to execute ['dot', '-Kdot', '-Tsvg'], make sure the Graphviz executables are on your systems' PATH",
     "output_type": "error",
     "traceback": [
      "\u001b[1;31m---------------------------------------------------------------------------\u001b[0m",
      "\u001b[1;31mFileNotFoundError\u001b[0m                         Traceback (most recent call last)",
      "\u001b[1;32m~\\anaconda3\\lib\\site-packages\\graphviz\\backend.py\u001b[0m in \u001b[0;36mrun\u001b[1;34m(cmd, input, capture_output, check, encoding, quiet, **kwargs)\u001b[0m\n\u001b[0;32m    163\u001b[0m     \u001b[1;32mtry\u001b[0m\u001b[1;33m:\u001b[0m\u001b[1;33m\u001b[0m\u001b[1;33m\u001b[0m\u001b[0m\n\u001b[1;32m--> 164\u001b[1;33m         \u001b[0mproc\u001b[0m \u001b[1;33m=\u001b[0m \u001b[0msubprocess\u001b[0m\u001b[1;33m.\u001b[0m\u001b[0mPopen\u001b[0m\u001b[1;33m(\u001b[0m\u001b[0mcmd\u001b[0m\u001b[1;33m,\u001b[0m \u001b[0mstartupinfo\u001b[0m\u001b[1;33m=\u001b[0m\u001b[0mget_startupinfo\u001b[0m\u001b[1;33m(\u001b[0m\u001b[1;33m)\u001b[0m\u001b[1;33m,\u001b[0m \u001b[1;33m**\u001b[0m\u001b[0mkwargs\u001b[0m\u001b[1;33m)\u001b[0m\u001b[1;33m\u001b[0m\u001b[1;33m\u001b[0m\u001b[0m\n\u001b[0m\u001b[0;32m    165\u001b[0m     \u001b[1;32mexcept\u001b[0m \u001b[0mOSError\u001b[0m \u001b[1;32mas\u001b[0m \u001b[0me\u001b[0m\u001b[1;33m:\u001b[0m\u001b[1;33m\u001b[0m\u001b[1;33m\u001b[0m\u001b[0m\n",
      "\u001b[1;32m~\\anaconda3\\lib\\subprocess.py\u001b[0m in \u001b[0;36m__init__\u001b[1;34m(self, args, bufsize, executable, stdin, stdout, stderr, preexec_fn, close_fds, shell, cwd, env, universal_newlines, startupinfo, creationflags, restore_signals, start_new_session, pass_fds, encoding, errors, text)\u001b[0m\n\u001b[0;32m    853\u001b[0m \u001b[1;33m\u001b[0m\u001b[0m\n\u001b[1;32m--> 854\u001b[1;33m             self._execute_child(args, executable, preexec_fn, close_fds,\n\u001b[0m\u001b[0;32m    855\u001b[0m                                 \u001b[0mpass_fds\u001b[0m\u001b[1;33m,\u001b[0m \u001b[0mcwd\u001b[0m\u001b[1;33m,\u001b[0m \u001b[0menv\u001b[0m\u001b[1;33m,\u001b[0m\u001b[1;33m\u001b[0m\u001b[1;33m\u001b[0m\u001b[0m\n",
      "\u001b[1;32m~\\anaconda3\\lib\\subprocess.py\u001b[0m in \u001b[0;36m_execute_child\u001b[1;34m(self, args, executable, preexec_fn, close_fds, pass_fds, cwd, env, startupinfo, creationflags, shell, p2cread, p2cwrite, c2pread, c2pwrite, errread, errwrite, unused_restore_signals, unused_start_new_session)\u001b[0m\n\u001b[0;32m   1306\u001b[0m             \u001b[1;32mtry\u001b[0m\u001b[1;33m:\u001b[0m\u001b[1;33m\u001b[0m\u001b[1;33m\u001b[0m\u001b[0m\n\u001b[1;32m-> 1307\u001b[1;33m                 hp, ht, pid, tid = _winapi.CreateProcess(executable, args,\n\u001b[0m\u001b[0;32m   1308\u001b[0m                                          \u001b[1;31m# no special security\u001b[0m\u001b[1;33m\u001b[0m\u001b[1;33m\u001b[0m\u001b[1;33m\u001b[0m\u001b[0m\n",
      "\u001b[1;31mFileNotFoundError\u001b[0m: [WinError 2] The system cannot find the file specified",
      "\nDuring handling of the above exception, another exception occurred:\n",
      "\u001b[1;31mExecutableNotFound\u001b[0m                        Traceback (most recent call last)",
      "\u001b[1;32m~\\anaconda3\\lib\\site-packages\\IPython\\core\\formatters.py\u001b[0m in \u001b[0;36m__call__\u001b[1;34m(self, obj)\u001b[0m\n\u001b[0;32m    343\u001b[0m             \u001b[0mmethod\u001b[0m \u001b[1;33m=\u001b[0m \u001b[0mget_real_method\u001b[0m\u001b[1;33m(\u001b[0m\u001b[0mobj\u001b[0m\u001b[1;33m,\u001b[0m \u001b[0mself\u001b[0m\u001b[1;33m.\u001b[0m\u001b[0mprint_method\u001b[0m\u001b[1;33m)\u001b[0m\u001b[1;33m\u001b[0m\u001b[1;33m\u001b[0m\u001b[0m\n\u001b[0;32m    344\u001b[0m             \u001b[1;32mif\u001b[0m \u001b[0mmethod\u001b[0m \u001b[1;32mis\u001b[0m \u001b[1;32mnot\u001b[0m \u001b[1;32mNone\u001b[0m\u001b[1;33m:\u001b[0m\u001b[1;33m\u001b[0m\u001b[1;33m\u001b[0m\u001b[0m\n\u001b[1;32m--> 345\u001b[1;33m                 \u001b[1;32mreturn\u001b[0m \u001b[0mmethod\u001b[0m\u001b[1;33m(\u001b[0m\u001b[1;33m)\u001b[0m\u001b[1;33m\u001b[0m\u001b[1;33m\u001b[0m\u001b[0m\n\u001b[0m\u001b[0;32m    346\u001b[0m             \u001b[1;32mreturn\u001b[0m \u001b[1;32mNone\u001b[0m\u001b[1;33m\u001b[0m\u001b[1;33m\u001b[0m\u001b[0m\n\u001b[0;32m    347\u001b[0m         \u001b[1;32melse\u001b[0m\u001b[1;33m:\u001b[0m\u001b[1;33m\u001b[0m\u001b[1;33m\u001b[0m\u001b[0m\n",
      "\u001b[1;32m~\\anaconda3\\lib\\site-packages\\graphviz\\files.py\u001b[0m in \u001b[0;36m_repr_svg_\u001b[1;34m(self)\u001b[0m\n\u001b[0;32m    142\u001b[0m \u001b[1;33m\u001b[0m\u001b[0m\n\u001b[0;32m    143\u001b[0m     \u001b[1;32mdef\u001b[0m \u001b[0m_repr_svg_\u001b[0m\u001b[1;33m(\u001b[0m\u001b[0mself\u001b[0m\u001b[1;33m)\u001b[0m\u001b[1;33m:\u001b[0m\u001b[1;33m\u001b[0m\u001b[1;33m\u001b[0m\u001b[0m\n\u001b[1;32m--> 144\u001b[1;33m         \u001b[1;32mreturn\u001b[0m \u001b[0mself\u001b[0m\u001b[1;33m.\u001b[0m\u001b[0mpipe\u001b[0m\u001b[1;33m(\u001b[0m\u001b[0mformat\u001b[0m\u001b[1;33m=\u001b[0m\u001b[1;34m'svg'\u001b[0m\u001b[1;33m)\u001b[0m\u001b[1;33m.\u001b[0m\u001b[0mdecode\u001b[0m\u001b[1;33m(\u001b[0m\u001b[0mself\u001b[0m\u001b[1;33m.\u001b[0m\u001b[0m_encoding\u001b[0m\u001b[1;33m)\u001b[0m\u001b[1;33m\u001b[0m\u001b[1;33m\u001b[0m\u001b[0m\n\u001b[0m\u001b[0;32m    145\u001b[0m \u001b[1;33m\u001b[0m\u001b[0m\n\u001b[0;32m    146\u001b[0m     \u001b[1;32mdef\u001b[0m \u001b[0mpipe\u001b[0m\u001b[1;33m(\u001b[0m\u001b[0mself\u001b[0m\u001b[1;33m,\u001b[0m \u001b[0mformat\u001b[0m\u001b[1;33m=\u001b[0m\u001b[1;32mNone\u001b[0m\u001b[1;33m,\u001b[0m \u001b[0mrenderer\u001b[0m\u001b[1;33m=\u001b[0m\u001b[1;32mNone\u001b[0m\u001b[1;33m,\u001b[0m \u001b[0mformatter\u001b[0m\u001b[1;33m=\u001b[0m\u001b[1;32mNone\u001b[0m\u001b[1;33m,\u001b[0m \u001b[0mquiet\u001b[0m\u001b[1;33m=\u001b[0m\u001b[1;32mFalse\u001b[0m\u001b[1;33m)\u001b[0m\u001b[1;33m:\u001b[0m\u001b[1;33m\u001b[0m\u001b[1;33m\u001b[0m\u001b[0m\n",
      "\u001b[1;32m~\\anaconda3\\lib\\site-packages\\graphviz\\files.py\u001b[0m in \u001b[0;36mpipe\u001b[1;34m(self, format, renderer, formatter, quiet)\u001b[0m\n\u001b[0;32m    167\u001b[0m         \u001b[0mdata\u001b[0m \u001b[1;33m=\u001b[0m \u001b[0mtext_type\u001b[0m\u001b[1;33m(\u001b[0m\u001b[0mself\u001b[0m\u001b[1;33m.\u001b[0m\u001b[0msource\u001b[0m\u001b[1;33m)\u001b[0m\u001b[1;33m.\u001b[0m\u001b[0mencode\u001b[0m\u001b[1;33m(\u001b[0m\u001b[0mself\u001b[0m\u001b[1;33m.\u001b[0m\u001b[0m_encoding\u001b[0m\u001b[1;33m)\u001b[0m\u001b[1;33m\u001b[0m\u001b[1;33m\u001b[0m\u001b[0m\n\u001b[0;32m    168\u001b[0m \u001b[1;33m\u001b[0m\u001b[0m\n\u001b[1;32m--> 169\u001b[1;33m         out = backend.pipe(self._engine, format, data,\n\u001b[0m\u001b[0;32m    170\u001b[0m                            \u001b[0mrenderer\u001b[0m\u001b[1;33m=\u001b[0m\u001b[0mrenderer\u001b[0m\u001b[1;33m,\u001b[0m \u001b[0mformatter\u001b[0m\u001b[1;33m=\u001b[0m\u001b[0mformatter\u001b[0m\u001b[1;33m,\u001b[0m\u001b[1;33m\u001b[0m\u001b[1;33m\u001b[0m\u001b[0m\n\u001b[0;32m    171\u001b[0m                            quiet=quiet)\n",
      "\u001b[1;32m~\\anaconda3\\lib\\site-packages\\graphviz\\backend.py\u001b[0m in \u001b[0;36mpipe\u001b[1;34m(engine, format, data, renderer, formatter, quiet)\u001b[0m\n\u001b[0;32m    246\u001b[0m     \"\"\"\n\u001b[0;32m    247\u001b[0m     \u001b[0mcmd\u001b[0m\u001b[1;33m,\u001b[0m \u001b[0m_\u001b[0m \u001b[1;33m=\u001b[0m \u001b[0mcommand\u001b[0m\u001b[1;33m(\u001b[0m\u001b[0mengine\u001b[0m\u001b[1;33m,\u001b[0m \u001b[0mformat\u001b[0m\u001b[1;33m,\u001b[0m \u001b[1;32mNone\u001b[0m\u001b[1;33m,\u001b[0m \u001b[0mrenderer\u001b[0m\u001b[1;33m,\u001b[0m \u001b[0mformatter\u001b[0m\u001b[1;33m)\u001b[0m\u001b[1;33m\u001b[0m\u001b[1;33m\u001b[0m\u001b[0m\n\u001b[1;32m--> 248\u001b[1;33m     \u001b[0mout\u001b[0m\u001b[1;33m,\u001b[0m \u001b[0m_\u001b[0m \u001b[1;33m=\u001b[0m \u001b[0mrun\u001b[0m\u001b[1;33m(\u001b[0m\u001b[0mcmd\u001b[0m\u001b[1;33m,\u001b[0m \u001b[0minput\u001b[0m\u001b[1;33m=\u001b[0m\u001b[0mdata\u001b[0m\u001b[1;33m,\u001b[0m \u001b[0mcapture_output\u001b[0m\u001b[1;33m=\u001b[0m\u001b[1;32mTrue\u001b[0m\u001b[1;33m,\u001b[0m \u001b[0mcheck\u001b[0m\u001b[1;33m=\u001b[0m\u001b[1;32mTrue\u001b[0m\u001b[1;33m,\u001b[0m \u001b[0mquiet\u001b[0m\u001b[1;33m=\u001b[0m\u001b[0mquiet\u001b[0m\u001b[1;33m)\u001b[0m\u001b[1;33m\u001b[0m\u001b[1;33m\u001b[0m\u001b[0m\n\u001b[0m\u001b[0;32m    249\u001b[0m     \u001b[1;32mreturn\u001b[0m \u001b[0mout\u001b[0m\u001b[1;33m\u001b[0m\u001b[1;33m\u001b[0m\u001b[0m\n\u001b[0;32m    250\u001b[0m \u001b[1;33m\u001b[0m\u001b[0m\n",
      "\u001b[1;32m~\\anaconda3\\lib\\site-packages\\graphviz\\backend.py\u001b[0m in \u001b[0;36mrun\u001b[1;34m(cmd, input, capture_output, check, encoding, quiet, **kwargs)\u001b[0m\n\u001b[0;32m    165\u001b[0m     \u001b[1;32mexcept\u001b[0m \u001b[0mOSError\u001b[0m \u001b[1;32mas\u001b[0m \u001b[0me\u001b[0m\u001b[1;33m:\u001b[0m\u001b[1;33m\u001b[0m\u001b[1;33m\u001b[0m\u001b[0m\n\u001b[0;32m    166\u001b[0m         \u001b[1;32mif\u001b[0m \u001b[0me\u001b[0m\u001b[1;33m.\u001b[0m\u001b[0merrno\u001b[0m \u001b[1;33m==\u001b[0m \u001b[0merrno\u001b[0m\u001b[1;33m.\u001b[0m\u001b[0mENOENT\u001b[0m\u001b[1;33m:\u001b[0m\u001b[1;33m\u001b[0m\u001b[1;33m\u001b[0m\u001b[0m\n\u001b[1;32m--> 167\u001b[1;33m             \u001b[1;32mraise\u001b[0m \u001b[0mExecutableNotFound\u001b[0m\u001b[1;33m(\u001b[0m\u001b[0mcmd\u001b[0m\u001b[1;33m)\u001b[0m\u001b[1;33m\u001b[0m\u001b[1;33m\u001b[0m\u001b[0m\n\u001b[0m\u001b[0;32m    168\u001b[0m         \u001b[1;32melse\u001b[0m\u001b[1;33m:\u001b[0m\u001b[1;33m\u001b[0m\u001b[1;33m\u001b[0m\u001b[0m\n\u001b[0;32m    169\u001b[0m             \u001b[1;32mraise\u001b[0m\u001b[1;33m\u001b[0m\u001b[1;33m\u001b[0m\u001b[0m\n",
      "\u001b[1;31mExecutableNotFound\u001b[0m: failed to execute ['dot', '-Kdot', '-Tsvg'], make sure the Graphviz executables are on your systems' PATH"
     ]
    },
    {
     "data": {
      "text/plain": [
       "<graphviz.files.Source at 0x1420eb1e6a0>"
      ]
     },
     "execution_count": 54,
     "metadata": {},
     "output_type": "execute_result"
    }
   ],
   "source": [
    "import graphviz\n",
    "\n",
    "# DOT Data\n",
    "feature_cols= [\"Gender\", \"Customer Type\",\"Age\", \"Type of Travel\", \"Class\", \n",
    "               \"Flight Distance\", \"Inflight wifi service\", \"Departure/Arrival time convenient\", \n",
    "               \"Ease of Online booking\", \"Gate location\", \"Food and drink\", \"Online\",\n",
    "               \"Seat comfort\",\"Inflight entertainment\",\"On-board service\",\n",
    "               \"Leg room service\",\"Baggage handling\",\"Checkin service\",\n",
    "               \"Inflight service\",\"Cleanliness\",\"Departure Delay in Minutes\",\"Arrival Delay in Minutes\"]\n",
    "dot_data = tree.export_graphviz(dt_model, out_file=None, feature_names = feature_cols, class_names = ['Neutral/Dissatisfied', 'Satisfied'],\n",
    "                                filled=True)\n",
    "\n",
    "# Draw Graph\n",
    "graph = graphviz.Source(dot_data, format=\"png\") \n",
    "graph"
   ]
  },
  {
   "cell_type": "code",
   "execution_count": 55,
   "metadata": {
    "colab": {
     "base_uri": "https://localhost:8080/"
    },
    "id": "MmPXGF4zoQxr",
    "outputId": "7fcd45ad-d91c-400a-f307-7482709ee5a8"
   },
   "outputs": [
    {
     "ename": "ModuleNotFoundError",
     "evalue": "No module named 'sklearn.externals.six'",
     "output_type": "error",
     "traceback": [
      "\u001b[1;31m---------------------------------------------------------------------------\u001b[0m",
      "\u001b[1;31mModuleNotFoundError\u001b[0m                       Traceback (most recent call last)",
      "\u001b[1;32m<ipython-input-55-d5e4624e1da2>\u001b[0m in \u001b[0;36m<module>\u001b[1;34m\u001b[0m\n\u001b[0;32m      2\u001b[0m \u001b[1;32mimport\u001b[0m \u001b[0mpylab\u001b[0m\u001b[1;33m\u001b[0m\u001b[1;33m\u001b[0m\u001b[0m\n\u001b[0;32m      3\u001b[0m \u001b[1;32mfrom\u001b[0m \u001b[0msklearn\u001b[0m\u001b[1;33m.\u001b[0m\u001b[0mtree\u001b[0m \u001b[1;32mimport\u001b[0m \u001b[0mexport_graphviz\u001b[0m\u001b[1;33m\u001b[0m\u001b[1;33m\u001b[0m\u001b[0m\n\u001b[1;32m----> 4\u001b[1;33m \u001b[1;32mfrom\u001b[0m \u001b[0msklearn\u001b[0m\u001b[1;33m.\u001b[0m\u001b[0mexternals\u001b[0m\u001b[1;33m.\u001b[0m\u001b[0msix\u001b[0m \u001b[1;32mimport\u001b[0m \u001b[0mStringIO\u001b[0m\u001b[1;33m\u001b[0m\u001b[1;33m\u001b[0m\u001b[0m\n\u001b[0m\u001b[0;32m      5\u001b[0m \u001b[1;32mimport\u001b[0m \u001b[0mpydotplus\u001b[0m\u001b[1;33m\u001b[0m\u001b[1;33m\u001b[0m\u001b[0m\n\u001b[0;32m      6\u001b[0m \u001b[1;33m\u001b[0m\u001b[0m\n",
      "\u001b[1;31mModuleNotFoundError\u001b[0m: No module named 'sklearn.externals.six'"
     ]
    }
   ],
   "source": [
    "# Save Image\n",
    "import pylab\n",
    "from sklearn.tree import export_graphviz\n",
    "from sklearn.externals.six import StringIO  \n",
    "import pydotplus\n",
    "\n",
    "dot_data = StringIO()\n",
    "export_graphviz(dt_model, out_file=dot_data,  \n",
    "                filled=True, rounded=True,\n",
    "                special_characters=True,feature_names = feature_cols,class_names=['Neutral/Dissatisfied', 'Satisfied'])\n",
    "graph = pydotplus.graph_from_dot_data(dot_data.getvalue())  \n",
    "graph.write_png('dtgraph.png')"
   ]
  },
  {
   "cell_type": "markdown",
   "metadata": {
    "id": "jqCm6WfNeUiX"
   },
   "source": [
    "###### - ***Feature Importances***"
   ]
  },
  {
   "cell_type": "code",
   "execution_count": null,
   "metadata": {
    "colab": {
     "base_uri": "https://localhost:8080/",
     "height": 492
    },
    "id": "fMXO8mutZ9q5",
    "outputId": "6bb70b70-362a-4ae1-f5cb-c854191bd46e"
   },
   "outputs": [],
   "source": [
    "# Feature Importance Plot\n",
    "importances_dt = pd.Series(data=dt_model.feature_importances_,\n",
    "                        index= X_train.columns)\n",
    "importances_dt = importances_dt.sort_values(ascending=True)\n",
    "\n",
    "plt.style.use('seaborn-darkgrid')\n",
    "plt.figure(figsize=(8,8))\n",
    "importances_dt.plot(kind='barh', cmap='Set2')\n",
    "plt.title('Features Importance Plot')\n",
    "plt.show()"
   ]
  },
  {
   "cell_type": "markdown",
   "metadata": {
    "id": "FfzOoNwzj7N2"
   },
   "source": [
    "##### 5. ***Random Forest Classifier***"
   ]
  },
  {
   "cell_type": "markdown",
   "metadata": {},
   "source": [
    "###### - ***Train the Model***"
   ]
  },
  {
   "cell_type": "code",
   "execution_count": 75,
   "metadata": {
    "colab": {
     "base_uri": "https://localhost:8080/"
    },
    "id": "es-qIzID2q4B",
    "outputId": "23f5f77b-7c30-4fb1-8f41-80f520dc34e9"
   },
   "outputs": [
    {
     "name": "stdout",
     "output_type": "stream",
     "text": [
      "RandomForestClassifier()\n"
     ]
    }
   ],
   "source": [
    "from sklearn.ensemble import RandomForestClassifier\n",
    "\n",
    "# Train the Model\n",
    "rf_model = RandomForestClassifier().fit(X_train, y_train)\n",
    "print(rf_model)"
   ]
  },
  {
   "cell_type": "markdown",
   "metadata": {},
   "source": [
    "###### - ***Predict Data Train and Test***"
   ]
  },
  {
   "cell_type": "code",
   "execution_count": 76,
   "metadata": {
    "colab": {
     "base_uri": "https://localhost:8080/"
    },
    "id": "LyLenWisP4XS",
    "outputId": "ebd56c4a-323e-4176-c8f7-d9448c7953fd"
   },
   "outputs": [
    {
     "name": "stdout",
     "output_type": "stream",
     "text": [
      "Classification Report Training Model (Decision Tree Classifier):\n",
      "              precision    recall  f1-score   support\n",
      "\n",
      "           0       1.00      1.00      1.00     47166\n",
      "           1       1.00      1.00      1.00     35957\n",
      "\n",
      "    accuracy                           1.00     83123\n",
      "   macro avg       1.00      1.00      1.00     83123\n",
      "weighted avg       1.00      1.00      1.00     83123\n",
      "\n"
     ]
    }
   ],
   "source": [
    "# Predict Data Train\n",
    "y_train_pred_dt = rf_model.predict(X_train)\n",
    "\n",
    "# Print Classification Report\n",
    "print('Classification Report Training Model (Decision Tree Classifier):')\n",
    "print(classification_report(y_train, y_train_pred_dt))"
   ]
  },
  {
   "cell_type": "code",
   "execution_count": 77,
   "metadata": {
    "colab": {
     "base_uri": "https://localhost:8080/"
    },
    "id": "l0HcvUrAqe_j",
    "outputId": "283b44bc-fce1-4659-86a2-34fc013f6e3e"
   },
   "outputs": [
    {
     "name": "stdout",
     "output_type": "stream",
     "text": [
      "Classification Report Testing Model (Random Forest Classifier):\n",
      "              precision    recall  f1-score   support\n",
      "\n",
      "           0       0.96      0.98      0.97     11713\n",
      "           1       0.97      0.94      0.96      9068\n",
      "\n",
      "    accuracy                           0.96     20781\n",
      "   macro avg       0.96      0.96      0.96     20781\n",
      "weighted avg       0.96      0.96      0.96     20781\n",
      "\n"
     ]
    }
   ],
   "source": [
    "# Predict Data Test\n",
    "y_test_pred_rf = rf_model.predict(X_test)\n",
    "from sklearn.metrics import confusion_matrix, classification_report\n",
    "# Print Classification Report\n",
    "print('Classification Report Testing Model (Random Forest Classifier):')\n",
    "print(classification_report(y_test, y_test_pred_rf))"
   ]
  },
  {
   "cell_type": "markdown",
   "metadata": {
    "id": "DlhBfHzzSBff"
   },
   "source": [
    "Karena precision dari prediksi `data train` = **1** dan `data test` memiliki nilai yang tidak jauh berbeda, yaitu sebesar **0.96** maka dapat dikatakan bahwa model sudah cukup baik dan tidak terjadi *underfitting* maupun *overfitting*."
   ]
  },
  {
   "cell_type": "code",
   "execution_count": 78,
   "metadata": {},
   "outputs": [
    {
     "name": "stdout",
     "output_type": "stream",
     "text": [
      "ROC AUC: 0.9601329055357981\n"
     ]
    }
   ],
   "source": [
    "roc_auc_rf = roc_auc_score(y_test, y_test_pred_rf)\n",
    "print('ROC AUC:', roc_auc_rf)"
   ]
  },
  {
   "cell_type": "markdown",
   "metadata": {},
   "source": [
    "###### - ***Confusion Matrix***"
   ]
  },
  {
   "cell_type": "code",
   "execution_count": null,
   "metadata": {
    "colab": {
     "base_uri": "https://localhost:8080/",
     "height": 350
    },
    "id": "gb_tuzDUqfCz",
    "outputId": "d8e39907-b384-4f54-9235-3e9876221b8c"
   },
   "outputs": [],
   "source": [
    "# Form Confusion Matrix as a DataFrame\n",
    "confusion_matrix_rf = pd.DataFrame((confusion_matrix(y_test, y_test_pred_rf)), ('Neutral/Dissatisfied', 'Satisfied'), ('Neutral/Dissatisfied', 'Satisfied'))\n",
    "\n",
    "# Plot Confusion Matrix\n",
    "plt.figure()\n",
    "heatmap = sns.heatmap(confusion_matrix_rf, annot=True, annot_kws={'size': 14}, fmt='d', cmap='OrRd')\n",
    "heatmap.yaxis.set_ticklabels(heatmap.yaxis.get_ticklabels(), rotation=0, ha='right', fontsize=14)\n",
    "heatmap.xaxis.set_ticklabels(heatmap.xaxis.get_ticklabels(), rotation=0, ha='right', fontsize=14)\n",
    "\n",
    "plt.title('Confusion Matrix for Testing Model\\n(Random Forest)\\n', fontsize=18, color='firebrick')\n",
    "plt.ylabel('True label', fontsize=14)\n",
    "plt.xlabel('Predicted label', fontsize=14)\n",
    "plt.show()"
   ]
  },
  {
   "cell_type": "markdown",
   "metadata": {},
   "source": [
    "###### - ***Random Forest Graph***"
   ]
  },
  {
   "cell_type": "code",
   "execution_count": null,
   "metadata": {
    "colab": {
     "base_uri": "https://localhost:8080/",
     "height": 1000
    },
    "id": "CagjeYfYRymi",
    "outputId": "c339194c-120b-478c-9836-1a68c0fde1a1"
   },
   "outputs": [],
   "source": [
    "import graphviz\n",
    "from sklearn import tree\n",
    "\n",
    "# DOT Data\n",
    "feature_cols= [\"Gender\", \"Customer Type\",\"Age\", \"Type of Travel\", \"Class\", \n",
    "               \"Flight Distance\", \"Inflight wifi service\", \"Departure/Arrival time convenient\", \t\n",
    "               \"Ease of Online booking\", \t\"Gate location\", \t\"Food and drink\", \"Online\",\n",
    "               \"Seat comfort\",\"Inflight entertainment\",\"On-board service\",\n",
    "               \"Leg room service\",\"Baggage handling\",\"Checkin service\",\n",
    "               \"Inflight service\",\"Cleanliness\",\"Departure Delay in Minutes\",\"Arrival Delay in Minutes\"]\n",
    "dot_data_rf = tree.export_graphviz(rf_model.estimators_[0], out_file=None, feature_names = feature_cols, class_names = ['Neutral/Dissatisfied', 'Satisfied'],\n",
    "                                filled=True)\n",
    "\n",
    "# Draw Graph\n",
    "graph_rf = graphviz.Source(dot_data_rf, format=\"png\") \n",
    "graph_rf"
   ]
  },
  {
   "cell_type": "markdown",
   "metadata": {
    "id": "eKSOY23qssNa"
   },
   "source": [
    "Dapat dilihat bahwa hasil tree dari model `random forest` sangatlah kompleks sehingga sulit untuk diinterpretasikan."
   ]
  },
  {
   "cell_type": "markdown",
   "metadata": {},
   "source": [
    "###### - ***Feature Importances***"
   ]
  },
  {
   "cell_type": "code",
   "execution_count": null,
   "metadata": {
    "colab": {
     "base_uri": "https://localhost:8080/",
     "height": 905
    },
    "id": "SDsUuQeP4CAa",
    "outputId": "80a62e3d-f16c-486a-d7c3-6a968ac8fde0"
   },
   "outputs": [],
   "source": [
    "# Varible Importance\n",
    "from sklearn.ensemble import RandomForestClassifier\n",
    "rf_model = RandomForestClassifier().fit(X_train,y_train)\n",
    "importances = rf_model.feature_importances_\n",
    "std = np.std([tree.feature_importances_ for tree in rf_model.estimators_], axis=0)\n",
    "indices = np.argsort(importances)[::-1]\n",
    "\n",
    "# Print the Feature Ranking\n",
    "print(\"Feature ranking:\")\n",
    "for f in range(x.shape[1]):\n",
    "    print(\"%d. feature %d (%f)\" % (f + 1, indices[f], importances[indices[f]]))\n",
    "\n",
    "# Plot the Feature Importances of the Forest\n",
    "plt.figure(figsize=(16,8))\n",
    "plt.title(\"Feature importances\")\n",
    "plt.bar(range(x.shape[1]), importances[indices],color=\"pink\", yerr=std[indices],align=\"center\")\n",
    "plt.xticks(range(x.shape[1]), indices)\n",
    "plt.xlim([-1, x.shape[1]])\n",
    "plt.show()"
   ]
  },
  {
   "cell_type": "markdown",
   "metadata": {},
   "source": [
    "### Model Comparison"
   ]
  },
  {
   "cell_type": "markdown",
   "metadata": {},
   "source": [
    "- Jika dilihat berdasarkan *accuracy*, adalah:\n",
    "\n",
    "| Algorithm | Training Data Accuracy | Testing Data Accuracy |\n",
    "| ------ |------|------|\n",
    "| Logistic Regression | 0.81 | 0.81 |\n",
    "| Gaussian Naive Bayes | 0.87 | 0.87 |\n",
    "| K-Neighbors Classifier | 0.84 | 0.76 |\n",
    "| Decision Tree Classifier | 0.94 | 0.94 |\n",
    "| Random Forest Classifier | 1.00 | 0.96 |"
   ]
  },
  {
   "cell_type": "markdown",
   "metadata": {},
   "source": [
    "- Jika dilihat berdasarkan skor roc, adalah:"
   ]
  },
  {
   "cell_type": "code",
   "execution_count": 80,
   "metadata": {},
   "outputs": [
    {
     "data": {
      "text/html": [
       "<div>\n",
       "<style scoped>\n",
       "    .dataframe tbody tr th:only-of-type {\n",
       "        vertical-align: middle;\n",
       "    }\n",
       "\n",
       "    .dataframe tbody tr th {\n",
       "        vertical-align: top;\n",
       "    }\n",
       "\n",
       "    .dataframe thead th {\n",
       "        text-align: right;\n",
       "    }\n",
       "</style>\n",
       "<table border=\"1\" class=\"dataframe\">\n",
       "  <thead>\n",
       "    <tr style=\"text-align: right;\">\n",
       "      <th></th>\n",
       "      <th>AUC</th>\n",
       "    </tr>\n",
       "  </thead>\n",
       "  <tbody>\n",
       "    <tr>\n",
       "      <th>Logistic Regression</th>\n",
       "      <td>0.810176</td>\n",
       "    </tr>\n",
       "    <tr>\n",
       "      <th>Gaussian Naive Bayes</th>\n",
       "      <td>0.864133</td>\n",
       "    </tr>\n",
       "    <tr>\n",
       "      <th>K-Neightbors</th>\n",
       "      <td>0.753340</td>\n",
       "    </tr>\n",
       "    <tr>\n",
       "      <th>Decision Tree</th>\n",
       "      <td>0.936818</td>\n",
       "    </tr>\n",
       "    <tr>\n",
       "      <th>Random Forest</th>\n",
       "      <td>0.960133</td>\n",
       "    </tr>\n",
       "  </tbody>\n",
       "</table>\n",
       "</div>"
      ],
      "text/plain": [
       "                           AUC\n",
       "Logistic Regression   0.810176\n",
       "Gaussian Naive Bayes  0.864133\n",
       "K-Neightbors          0.753340\n",
       "Decision Tree         0.936818\n",
       "Random Forest         0.960133"
      ]
     },
     "execution_count": 80,
     "metadata": {},
     "output_type": "execute_result"
    }
   ],
   "source": [
    "auc_scores = [roc_auc_log, roc_auc_gnb, roc_auc_knn, roc_auc_dt, roc_auc_rf]\n",
    "model_scores = pd.DataFrame(auc_scores, index=['Logistic Regression','Gaussian Naive Bayes','K-Neighbors','Decision Tree', 'Random Forest'], columns=['AUC'])\n",
    "model_scores.head()"
   ]
  },
  {
   "cell_type": "markdown",
   "metadata": {},
   "source": [
    "### Conclusion"
   ]
  },
  {
   "cell_type": "markdown",
   "metadata": {},
   "source": [
    "Jika dilihat berdasarkan akurasi dan skor AUC, maka model  `Random Forest ` lebih unggul daripada model lainnya. Namun, karena model ini menghasilkan `tree` yang sangat kompleks sehingga sulit untuk diiinterpretasikan sehingga kami memilih untuk menggunakan model `Decision Tree `. Hal ini dikarenakan perbedaan nilai yang dihasilkan tidak memiliki selisih yang signifikan, dan dapat memberikan interpretasi yang insightful."
   ]
  }
 ],
 "metadata": {
  "colab": {
   "collapsed_sections": [],
   "name": "Tugas Akhir Data Mining_Kelompok hehew.ipynb",
   "provenance": [],
   "toc_visible": true
  },
  "kernelspec": {
   "display_name": "Python 3",
   "language": "python",
   "name": "python3"
  },
  "language_info": {
   "codemirror_mode": {
    "name": "ipython",
    "version": 3
   },
   "file_extension": ".py",
   "mimetype": "text/x-python",
   "name": "python",
   "nbconvert_exporter": "python",
   "pygments_lexer": "ipython3",
   "version": "3.8.3"
  }
 },
 "nbformat": 4,
 "nbformat_minor": 1
}
